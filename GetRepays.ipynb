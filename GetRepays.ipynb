{
 "cells": [
  {
   "cell_type": "markdown",
   "metadata": {},
   "source": [
    "# Get Repays"
   ]
  },
  {
   "cell_type": "markdown",
   "metadata": {},
   "source": [
    "In this notebook, we compile the data for borrow transactions from the API."
   ]
  },
  {
   "cell_type": "code",
   "execution_count": 1,
   "metadata": {},
   "outputs": [],
   "source": [
    "import requests\n",
    "import json\n",
    "import pandas as pd\n",
    "import seaborn as sns\n",
    "import cryptocompare\n",
    "import matplotlib.pyplot as plt\n",
    "from sklearn.cluster import KMeans\n",
    "from datetime import datetime\n",
    "import numpy as np\n",
    "from sklearn.decomposition import PCA\n",
    "from sklearn.preprocessing import StandardScaler\n",
    "import missingno as msno\n",
    "from IPython.display import HTML\n",
    "import matplotlib.dates as md\n",
    "import math\n",
    "import time"
   ]
  },
  {
   "cell_type": "markdown",
   "metadata": {},
   "source": [
    "### Fetch Repay Transaction Data"
   ]
  },
  {
   "cell_type": "markdown",
   "metadata": {},
   "source": [
    "Here, we write a query to fetch transaction information from the API."
   ]
  },
  {
   "cell_type": "code",
   "execution_count": 2,
   "metadata": {},
   "outputs": [
    {
     "name": "stdout",
     "output_type": "stream",
     "text": [
      "<class 'pandas.core.frame.DataFrame'>\n",
      "RangeIndex: 56019 entries, 0 to 56018\n",
      "Data columns (total 8 columns):\n",
      " #   Column      Non-Null Count  Dtype \n",
      "---  ------      --------------  ----- \n",
      " 0   amount      56019 non-null  object\n",
      " 1   id          56019 non-null  object\n",
      " 2   onBehalfOf  56019 non-null  object\n",
      " 3   pool        56019 non-null  object\n",
      " 4   reserve     56019 non-null  object\n",
      " 5   timestamp   56019 non-null  int64 \n",
      " 6   user        56019 non-null  object\n",
      " 7   type        56019 non-null  object\n",
      "dtypes: int64(1), object(7)\n",
      "memory usage: 3.4+ MB\n"
     ]
    }
   ],
   "source": [
    "lastId='\"\"'\n",
    "repay_data = []\n",
    "#loop until no more data left\n",
    "while(1):\n",
    "    try:\n",
    "        #set query\n",
    "        query=\"\"\"\n",
    "        {\n",
    "            repays (first: 1000 orderBy: id where:{id_gt:\"\"\"+lastId+\"\"\"}) {\n",
    "            id,\n",
    "            user{\n",
    "                id\n",
    "            }\n",
    "            onBehalfOf{\n",
    "                id\n",
    "            }\n",
    "            pool{\n",
    "                id\n",
    "            }\n",
    "            amount,\n",
    "            reserve {\n",
    "              id,\n",
    "              symbol\n",
    "            },\n",
    "            timestamp\n",
    "            }\n",
    "        }\n",
    "        \"\"\"\n",
    "        #make request\n",
    "        url = 'https://api.thegraph.com/subgraphs/name/aave/protocol-v2'\n",
    "        request = requests.post(url,json={'query':query})\n",
    "        #store data\n",
    "        repay_data.extend(request.json()['data']['repays'])\n",
    "        lastId = \"\\\"\"+request.json()['data']['repays'][-1]['id']+\"\\\"\"\n",
    "    except:\n",
    "        #exit when no more data left to get\n",
    "        break\n",
    "\n",
    "#create borrows data frame\n",
    "df_repays = pd.DataFrame(repay_data)\n",
    "df_repays['type']='repay'\n",
    "df_repays.info()"
   ]
  },
  {
   "cell_type": "markdown",
   "metadata": {},
   "source": [
    "### Re-Format Repay Transaction Data"
   ]
  },
  {
   "cell_type": "markdown",
   "metadata": {},
   "source": [
    "Some of the values in the dataset are dictionaries, so we must re-format the data to get the wanted field from those dictionaries."
   ]
  },
  {
   "cell_type": "code",
   "execution_count": 3,
   "metadata": {},
   "outputs": [],
   "source": [
    "#get id's\n",
    "def getUser(row):\n",
    "    return row['user']['id']\n",
    "df_repays['user']=df_repays.apply(lambda x: getUser(x), axis=1)\n",
    "\n",
    "def getOnBehalfOf(row):\n",
    "    if not isinstance(row['onBehalfOf'],float):\n",
    "        return row['onBehalfOf']['id']\n",
    "    else:\n",
    "        return np.nan\n",
    "df_repays['onBehalfOf']=df_repays.apply(lambda x: getOnBehalfOf(x), axis=1)\n",
    "\n",
    "def getPool(row):\n",
    "    return row['pool']['id']\n",
    "df_repays['pool']=df_repays.apply(lambda x: getPool(x), axis=1)\n",
    "\n",
    "#get symbols\n",
    "def getReserve(row):\n",
    "    if not isinstance(row['reserve'],float):\n",
    "        return row['reserve']['symbol']\n",
    "    else:\n",
    "        return np.nan\n",
    "df_repays['reserve']=df_repays.apply(lambda x: getReserve(x), axis=1)"
   ]
  },
  {
   "cell_type": "markdown",
   "metadata": {},
   "source": [
    "### Fetch Price Data"
   ]
  },
  {
   "cell_type": "markdown",
   "metadata": {},
   "source": [
    "The API does not list the price of the asset for each transaction, so we must gather this information in another way. We can search for the most recent price of the desired asset before the transaction occurred. Prices are reported in Ether, not USD. Because of this, we also get the price of Tether at the time of the transaction. Tether is a stable coin, so its price should always be close to one dollar. We will divide the asset price by the price of Tether to determine the price of the asset in USD. "
   ]
  },
  {
   "cell_type": "code",
   "execution_count": 4,
   "metadata": {},
   "outputs": [
    {
     "name": "stdout",
     "output_type": "stream",
     "text": [
      "getting repay prices...\n",
      "5000\n",
      "10000\n",
      "15000\n",
      "20000\n",
      "25000\n",
      "30000\n",
      "40000\n",
      "45000\n",
      "50000\n",
      "55000\n"
     ]
    }
   ],
   "source": [
    "pricesSym=[]\n",
    "pricesUSDT=[]\n",
    "i=0\n",
    "#get prices for each asset at time of transaction, and price for USDT at time of transaction\n",
    "def getPrice(row, sym):\n",
    "    global i\n",
    "    #get symbol and time\n",
    "    symbol = row[sym]\n",
    "    timestamp = row['timestamp']\n",
    "    #get query\n",
    "    query=\"\"\"\n",
    "    {\n",
    "    reserves(where: { symbol_in:[\"USDT\",\\\"\"\"\"+symbol+\"\"\"\\\"] }){\n",
    "        symbol,\n",
    "        price{\n",
    "            priceInEth,\n",
    "            priceHistory(where:{timestamp_lte: \"\"\"+str(timestamp)+\"\"\"} orderBy: timestamp orderDirection: desc first:1){\n",
    "                price,\n",
    "                timestamp\n",
    "              }\n",
    "            }\n",
    "          }\n",
    "        }    \n",
    "    \"\"\"\n",
    "    #keep trying request until it is successful\n",
    "    while(True):\n",
    "        try:\n",
    "            #get json\n",
    "            url = 'https://api.thegraph.com/subgraphs/name/aave/protocol-v2'\n",
    "            request = requests.post(url,json={'query':query})\n",
    "            req_json = request.json()\n",
    "            break\n",
    "        except:\n",
    "            #if request unsuccessful, try again in 10 seconds\n",
    "            print('stalling')\n",
    "            time.sleep(10)\n",
    " \n",
    "    try:\n",
    "        #if only data for 1 asset...\n",
    "        if len(req_json['data']['reserves'])<2:\n",
    "            #if USDT, add data\n",
    "            if symbol==\"USDT\":\n",
    "                pricesSym.append(req_json['data']['reserves'][0]['price']['priceHistory'][0]['price'])\n",
    "                pricesUSDT.append(req_json['data']['reserves'][0]['price']['priceHistory'][0]['price'])\n",
    "            #otherwise, symbol not found\n",
    "            else:\n",
    "                pricesSym.append(np.nan)\n",
    "                pricesUSDT.append(np.nan)\n",
    "        #if both present...\n",
    "        else:\n",
    "            #ensure price data exists for asset\n",
    "            phistory = req_json['data']['reserves'][0]['price']['priceHistory']\n",
    "            #if data not available, set as null\n",
    "            if len(phistory)==0:\n",
    "                pricesSym.append(np.nan)\n",
    "                pricesUSDT.append(req_json['data']['reserves'][1]['price']['priceHistory'][0]['price'])\n",
    "            #otherwise add data\n",
    "            else:\n",
    "                pricesSym.append(phistory[0]['price'])\n",
    "                pricesUSDT.append(req_json['data']['reserves'][1]['price']['priceHistory'][0]['price'])\n",
    "    except:\n",
    "        print('ERROR')\n",
    "        print(req_json)\n",
    "        return\n",
    "    \n",
    "    #update progress\n",
    "    i+=1\n",
    "    if i%5000==0:\n",
    "        print(i)\n",
    "\n",
    "#get borrow prices\n",
    "print('getting repay prices...')\n",
    "df_repays.apply(lambda x: getPrice(x,'reserve'),axis=1)\n",
    "\n",
    "df_repays['priceSym']=pricesSym\n",
    "df_repays['priceUSDT']=pricesUSDT"
   ]
  },
  {
   "cell_type": "markdown",
   "metadata": {},
   "source": [
    "### Re-Format Price Data"
   ]
  },
  {
   "cell_type": "markdown",
   "metadata": {},
   "source": [
    "We format the raw price data so that the prices are reported in USD. We will also determine the total amount of the transaction in USD."
   ]
  },
  {
   "cell_type": "code",
   "execution_count": 6,
   "metadata": {},
   "outputs": [],
   "source": [
    "#get the prices in ethereum and in USD\n",
    "df_repays['reservePriceETH'] = df_repays['priceSym'].astype(float)\n",
    "df_repays['reservePriceUSD'] = df_repays['reservePriceETH']*(1/(df_repays['priceUSDT'].astype(float)))\n",
    "\n",
    "#get amount in USD\n",
    "df_repays['amountUSD']=df_repays['amount'].astype(float)*df_repays['reservePriceUSD']                                     \n",
    "\n",
    "#drop redundent columns\n",
    "df_repays.drop(columns=['priceSym','priceUSDT'],inplace=True)\n",
    "                                               \n",
    "#reset index\n",
    "df_repays = df_repays.set_index('id')           "
   ]
  },
  {
   "cell_type": "markdown",
   "metadata": {},
   "source": [
    "### Save Final Data Frame"
   ]
  },
  {
   "cell_type": "markdown",
   "metadata": {},
   "source": [
    "Finally, we save the dataframe to a csv file."
   ]
  },
  {
   "cell_type": "code",
   "execution_count": 7,
   "metadata": {},
   "outputs": [],
   "source": [
    "df_repays.to_csv(\"repays.csv\",index=False)"
   ]
  },
  {
   "cell_type": "code",
   "execution_count": null,
   "metadata": {},
   "outputs": [],
   "source": []
  }
 ],
 "metadata": {
  "kernelspec": {
   "display_name": "Python [conda env:blockchain]",
   "language": "python",
   "name": "conda-env-blockchain-py"
  },
  "language_info": {
   "codemirror_mode": {
    "name": "ipython",
    "version": 3
   },
   "file_extension": ".py",
   "mimetype": "text/x-python",
   "name": "python",
   "nbconvert_exporter": "python",
   "pygments_lexer": "ipython3",
   "version": "3.8.10"
  }
 },
 "nbformat": 4,
 "nbformat_minor": 2
}
