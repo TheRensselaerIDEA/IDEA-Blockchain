{
 "cells": [
  {
   "cell_type": "markdown",
   "metadata": {},
   "source": [
    "# Get Reserve Info"
   ]
  },
  {
   "cell_type": "markdown",
   "metadata": {},
   "source": [
    "In this notebook, we gather information regarding the types of tokens present in Aave."
   ]
  },
  {
   "cell_type": "code",
   "execution_count": 1,
   "metadata": {},
   "outputs": [],
   "source": [
    "#import packages\n",
    "import requests\n",
    "import json\n",
    "import pandas as pd\n",
    "import seaborn as sns\n",
    "import cryptocompare\n",
    "import matplotlib.pyplot as plt\n",
    "from sklearn.cluster import KMeans\n",
    "from datetime import datetime\n",
    "import numpy as np\n",
    "from sklearn.decomposition import PCA\n",
    "from sklearn.preprocessing import StandardScaler\n",
    "import missingno as msno\n",
    "from IPython.display import HTML\n",
    "import matplotlib.dates as md\n",
    "import time\n",
    "import math"
   ]
  },
  {
   "cell_type": "markdown",
   "metadata": {},
   "source": [
    "### Get Rate Data"
   ]
  },
  {
   "cell_type": "markdown",
   "metadata": {},
   "source": [
    "We start by gathering data for borrow and deposit rates for each currency. The data has a row for every time a rate was updated for a given currency."
   ]
  },
  {
   "cell_type": "code",
   "execution_count": 2,
   "metadata": {},
   "outputs": [
    {
     "name": "stdout",
     "output_type": "stream",
     "text": [
      "list index out of range\n",
      "<class 'pandas.core.frame.DataFrame'>\n",
      "RangeIndex: 545441 entries, 0 to 545440\n",
      "Data columns (total 5 columns):\n",
      " #   Column              Non-Null Count   Dtype \n",
      "---  ------              --------------   ----- \n",
      " 0   liquidityRate       545441 non-null  object\n",
      " 1   reserve             545441 non-null  object\n",
      " 2   stableBorrowRate    545441 non-null  object\n",
      " 3   timestamp           545441 non-null  int64 \n",
      " 4   variableBorrowRate  545441 non-null  object\n",
      "dtypes: int64(1), object(4)\n",
      "memory usage: 20.8+ MB\n"
     ]
    }
   ],
   "source": [
    "lastTime='0'\n",
    "token_data=[]\n",
    "#loop until no more data left\n",
    "while(1):\n",
    "    try:\n",
    "        #set query\n",
    "        query=\"\"\"\n",
    "        {\n",
    "            reserveParamsHistoryItems(first: 1000 orderBy: timestamp where:{timestamp_gt:\"\"\"+lastTime+\"\"\"}) {\n",
    "            timestamp\n",
    "            reserve{\n",
    "                symbol\n",
    "            }\n",
    "            variableBorrowRate\n",
    "            stableBorrowRate\n",
    "            liquidityRate\n",
    "            }\n",
    "        }\n",
    "        \"\"\"\n",
    "        #make request\n",
    "        url = 'https://api.thegraph.com/subgraphs/name/aave/protocol-v2'\n",
    "        request = requests.post(url,json={'query':query})\n",
    "        #store data\n",
    "        token_data.extend(request.json()['data']['reserveParamsHistoryItems'])\n",
    "        lastTime = str(request.json()['data']['reserveParamsHistoryItems'][-1]['timestamp'])\n",
    "    except Exception as e:\n",
    "        #exit when no more data left to get\n",
    "        print(e)\n",
    "        break\n",
    "\n",
    "#create borrows data frame\n",
    "df_tokens = pd.DataFrame(token_data)\n",
    "df_tokens.info()"
   ]
  },
  {
   "cell_type": "code",
   "execution_count": 3,
   "metadata": {},
   "outputs": [
    {
     "data": {
      "text/html": [
       "<div>\n",
       "<style scoped>\n",
       "    .dataframe tbody tr th:only-of-type {\n",
       "        vertical-align: middle;\n",
       "    }\n",
       "\n",
       "    .dataframe tbody tr th {\n",
       "        vertical-align: top;\n",
       "    }\n",
       "\n",
       "    .dataframe thead th {\n",
       "        text-align: right;\n",
       "    }\n",
       "</style>\n",
       "<table border=\"1\" class=\"dataframe\">\n",
       "  <thead>\n",
       "    <tr style=\"text-align: right;\">\n",
       "      <th></th>\n",
       "      <th>liquidityRate</th>\n",
       "      <th>reserve</th>\n",
       "      <th>stableBorrowRate</th>\n",
       "      <th>timestamp</th>\n",
       "      <th>variableBorrowRate</th>\n",
       "    </tr>\n",
       "  </thead>\n",
       "  <tbody>\n",
       "    <tr>\n",
       "      <th>0</th>\n",
       "      <td>0</td>\n",
       "      <td>{'symbol': 'WETH'}</td>\n",
       "      <td>30000000000000000000000000</td>\n",
       "      <td>1606777900</td>\n",
       "      <td>0</td>\n",
       "    </tr>\n",
       "    <tr>\n",
       "      <th>1</th>\n",
       "      <td>0</td>\n",
       "      <td>{'symbol': 'WETH'}</td>\n",
       "      <td>30000000000000000000000000</td>\n",
       "      <td>1606778006</td>\n",
       "      <td>0</td>\n",
       "    </tr>\n",
       "    <tr>\n",
       "      <th>2</th>\n",
       "      <td>0</td>\n",
       "      <td>{'symbol': 'AAVE'}</td>\n",
       "      <td>0</td>\n",
       "      <td>1606836555</td>\n",
       "      <td>0</td>\n",
       "    </tr>\n",
       "    <tr>\n",
       "      <th>3</th>\n",
       "      <td>0</td>\n",
       "      <td>{'symbol': 'WETH'}</td>\n",
       "      <td>30000000000000000000000000</td>\n",
       "      <td>1606836949</td>\n",
       "      <td>0</td>\n",
       "    </tr>\n",
       "    <tr>\n",
       "      <th>4</th>\n",
       "      <td>0</td>\n",
       "      <td>{'symbol': 'WETH'}</td>\n",
       "      <td>30000000000000000000000000</td>\n",
       "      <td>1606837339</td>\n",
       "      <td>0</td>\n",
       "    </tr>\n",
       "  </tbody>\n",
       "</table>\n",
       "</div>"
      ],
      "text/plain": [
       "  liquidityRate             reserve            stableBorrowRate   timestamp  \\\n",
       "0             0  {'symbol': 'WETH'}  30000000000000000000000000  1606777900   \n",
       "1             0  {'symbol': 'WETH'}  30000000000000000000000000  1606778006   \n",
       "2             0  {'symbol': 'AAVE'}                           0  1606836555   \n",
       "3             0  {'symbol': 'WETH'}  30000000000000000000000000  1606836949   \n",
       "4             0  {'symbol': 'WETH'}  30000000000000000000000000  1606837339   \n",
       "\n",
       "  variableBorrowRate  \n",
       "0                  0  \n",
       "1                  0  \n",
       "2                  0  \n",
       "3                  0  \n",
       "4                  0  "
      ]
     },
     "execution_count": 3,
     "metadata": {},
     "output_type": "execute_result"
    }
   ],
   "source": [
    "df_tokens.head()"
   ]
  },
  {
   "cell_type": "markdown",
   "metadata": {},
   "source": [
    "### Cleaning"
   ]
  },
  {
   "cell_type": "markdown",
   "metadata": {},
   "source": [
    "We adjust the values for the rates by a scaler to represent these as percentages."
   ]
  },
  {
   "cell_type": "code",
   "execution_count": 4,
   "metadata": {},
   "outputs": [
    {
     "data": {
      "text/html": [
       "<div>\n",
       "<style scoped>\n",
       "    .dataframe tbody tr th:only-of-type {\n",
       "        vertical-align: middle;\n",
       "    }\n",
       "\n",
       "    .dataframe tbody tr th {\n",
       "        vertical-align: top;\n",
       "    }\n",
       "\n",
       "    .dataframe thead th {\n",
       "        text-align: right;\n",
       "    }\n",
       "</style>\n",
       "<table border=\"1\" class=\"dataframe\">\n",
       "  <thead>\n",
       "    <tr style=\"text-align: right;\">\n",
       "      <th></th>\n",
       "      <th>liquidityRate</th>\n",
       "      <th>variableBorrowRate</th>\n",
       "      <th>stableBorrowRate</th>\n",
       "    </tr>\n",
       "  </thead>\n",
       "  <tbody>\n",
       "    <tr>\n",
       "      <th>0</th>\n",
       "      <td>0.000000</td>\n",
       "      <td>0.000000</td>\n",
       "      <td>3.000000</td>\n",
       "    </tr>\n",
       "    <tr>\n",
       "      <th>1</th>\n",
       "      <td>0.000000</td>\n",
       "      <td>0.000000</td>\n",
       "      <td>3.000000</td>\n",
       "    </tr>\n",
       "    <tr>\n",
       "      <th>2</th>\n",
       "      <td>0.000000</td>\n",
       "      <td>0.000000</td>\n",
       "      <td>0.000000</td>\n",
       "    </tr>\n",
       "    <tr>\n",
       "      <th>3</th>\n",
       "      <td>0.000000</td>\n",
       "      <td>0.000000</td>\n",
       "      <td>3.000000</td>\n",
       "    </tr>\n",
       "    <tr>\n",
       "      <th>4</th>\n",
       "      <td>0.000000</td>\n",
       "      <td>0.000000</td>\n",
       "      <td>3.000000</td>\n",
       "    </tr>\n",
       "    <tr>\n",
       "      <th>...</th>\n",
       "      <td>...</td>\n",
       "      <td>...</td>\n",
       "      <td>...</td>\n",
       "    </tr>\n",
       "    <tr>\n",
       "      <th>545436</th>\n",
       "      <td>2.596734</td>\n",
       "      <td>9.385090</td>\n",
       "      <td>0.000000</td>\n",
       "    </tr>\n",
       "    <tr>\n",
       "      <th>545437</th>\n",
       "      <td>0.042417</td>\n",
       "      <td>0.908173</td>\n",
       "      <td>1.297390</td>\n",
       "    </tr>\n",
       "    <tr>\n",
       "      <th>545438</th>\n",
       "      <td>4.541193</td>\n",
       "      <td>5.532024</td>\n",
       "      <td>12.532024</td>\n",
       "    </tr>\n",
       "    <tr>\n",
       "      <th>545439</th>\n",
       "      <td>4.542193</td>\n",
       "      <td>5.533254</td>\n",
       "      <td>12.533254</td>\n",
       "    </tr>\n",
       "    <tr>\n",
       "      <th>545440</th>\n",
       "      <td>0.005983</td>\n",
       "      <td>0.249523</td>\n",
       "      <td>3.311904</td>\n",
       "    </tr>\n",
       "  </tbody>\n",
       "</table>\n",
       "<p>545441 rows × 3 columns</p>\n",
       "</div>"
      ],
      "text/plain": [
       "        liquidityRate  variableBorrowRate  stableBorrowRate\n",
       "0            0.000000            0.000000          3.000000\n",
       "1            0.000000            0.000000          3.000000\n",
       "2            0.000000            0.000000          0.000000\n",
       "3            0.000000            0.000000          3.000000\n",
       "4            0.000000            0.000000          3.000000\n",
       "...               ...                 ...               ...\n",
       "545436       2.596734            9.385090          0.000000\n",
       "545437       0.042417            0.908173          1.297390\n",
       "545438       4.541193            5.532024         12.532024\n",
       "545439       4.542193            5.533254         12.533254\n",
       "545440       0.005983            0.249523          3.311904\n",
       "\n",
       "[545441 rows x 3 columns]"
      ]
     },
     "execution_count": 4,
     "metadata": {},
     "output_type": "execute_result"
    }
   ],
   "source": [
    "#adjust rates to percentages\n",
    "df_tokens['liquidityRate']= df_tokens['liquidityRate'].astype(float)/1e27*100\n",
    "df_tokens['variableBorrowRate']= df_tokens['variableBorrowRate'].astype(float)/1e27*100\n",
    "df_tokens['stableBorrowRate']= df_tokens['stableBorrowRate'].astype(float)/1e27*100\n",
    "\n",
    "df_tokens[['liquidityRate','variableBorrowRate','stableBorrowRate']]"
   ]
  },
  {
   "cell_type": "markdown",
   "metadata": {},
   "source": [
    "Next, we transform the reserve column to string."
   ]
  },
  {
   "cell_type": "code",
   "execution_count": 5,
   "metadata": {},
   "outputs": [],
   "source": [
    "#define function to parse reserves\n",
    "def getReserves(row):\n",
    "    reserve = row['reserve']['symbol']\n",
    "    return reserve\n",
    " \n",
    "#apply to reserve column to convert to string\n",
    "df_tokens['reserve'] = df_tokens.apply(lambda x: getReserves(x), axis=1)"
   ]
  },
  {
   "cell_type": "markdown",
   "metadata": {},
   "source": [
    "Finally, we save the data to a csv file."
   ]
  },
  {
   "cell_type": "code",
   "execution_count": 6,
   "metadata": {},
   "outputs": [],
   "source": [
    "#save to csv file\n",
    "df_tokens.to_csv(\"rates.csv\",index=False)"
   ]
  },
  {
   "cell_type": "markdown",
   "metadata": {},
   "source": [
    "### Analysis"
   ]
  },
  {
   "cell_type": "markdown",
   "metadata": {},
   "source": [
    "We will perform some basis analysis on CRV data. We subset the dataset so only rows regarding CSV are included."
   ]
  },
  {
   "cell_type": "code",
   "execution_count": 7,
   "metadata": {},
   "outputs": [
    {
     "name": "stdout",
     "output_type": "stream",
     "text": [
      "<class 'pandas.core.frame.DataFrame'>\n",
      "Int64Index: 12148 entries, 17281 to 545421\n",
      "Data columns (total 5 columns):\n",
      " #   Column              Non-Null Count  Dtype  \n",
      "---  ------              --------------  -----  \n",
      " 0   liquidityRate       12148 non-null  float64\n",
      " 1   reserve             12148 non-null  object \n",
      " 2   stableBorrowRate    12148 non-null  float64\n",
      " 3   timestamp           12148 non-null  int64  \n",
      " 4   variableBorrowRate  12148 non-null  float64\n",
      "dtypes: float64(3), int64(1), object(1)\n",
      "memory usage: 569.4+ KB\n"
     ]
    }
   ],
   "source": [
    "#subset crv\n",
    "df_crv = df_tokens[df_tokens['reserve']=='CRV']\n",
    "df_crv.info()"
   ]
  },
  {
   "cell_type": "markdown",
   "metadata": {},
   "source": [
    "We create a boxplot to show the distribution of liquidity rates for CSV."
   ]
  },
  {
   "cell_type": "code",
   "execution_count": 8,
   "metadata": {},
   "outputs": [
    {
     "data": {
      "image/png": "[encoded data removed]",
      "text/plain": [
       "<Figure size 432x288 with 1 Axes>"
      ]
     },
     "metadata": {
      "needs_background": "light"
     },
     "output_type": "display_data"
    }
   ],
   "source": [
    "#create boxplot\n",
    "sns.boxplot(x=df_crv['liquidityRate'].astype(float))\n",
    "plt.show()"
   ]
  },
  {
   "cell_type": "markdown",
   "metadata": {},
   "source": [
    "### Get Token Data"
   ]
  },
  {
   "cell_type": "markdown",
   "metadata": {},
   "source": [
    "Next, we will create a dataset where each row is a unique currency, and the columns are different metrics to describe it."
   ]
  },
  {
   "cell_type": "code",
   "execution_count": 9,
   "metadata": {},
   "outputs": [
    {
     "name": "stdout",
     "output_type": "stream",
     "text": [
      "<class 'pandas.core.frame.DataFrame'>\n",
      "RangeIndex: 52 entries, 0 to 51\n",
      "Data columns (total 9 columns):\n",
      " #   Column                       Non-Null Count  Dtype \n",
      "---  ------                       --------------  ----- \n",
      " 0   borrowingEnabled             52 non-null     bool  \n",
      " 1   decimals                     52 non-null     int64 \n",
      " 2   id                           52 non-null     object\n",
      " 3   pool                         52 non-null     object\n",
      " 4   reserveLiquidationBonus      52 non-null     object\n",
      " 5   reserveLiquidationThreshold  52 non-null     object\n",
      " 6   stableBorrowRateEnabled      52 non-null     bool  \n",
      " 7   symbol                       52 non-null     object\n",
      " 8   usageAsCollateralEnabled     52 non-null     bool  \n",
      "dtypes: bool(3), int64(1), object(5)\n",
      "memory usage: 2.7+ KB\n"
     ]
    }
   ],
   "source": [
    "#set query\n",
    "query=\"\"\"\n",
    "        {\n",
    "            reserves{\n",
    "                id\n",
    "                pool{\n",
    "                    id\n",
    "                }\n",
    "                symbol\n",
    "                decimals\n",
    "                usageAsCollateralEnabled\n",
    "                borrowingEnabled\n",
    "                stableBorrowRateEnabled\n",
    "                reserveLiquidationThreshold\n",
    "                reserveLiquidationBonus\n",
    "            }\n",
    "        }\n",
    "        \"\"\"\n",
    "\n",
    "#make request\n",
    "url = 'https://api.thegraph.com/subgraphs/name/aave/protocol-v2'\n",
    "request = requests.post(url,json={'query':query})\n",
    "\n",
    "#save result as dataframe\n",
    "df_token_data = pd.DataFrame(request.json()['data']['reserves'])\n",
    "df_token_data.info()"
   ]
  },
  {
   "cell_type": "markdown",
   "metadata": {},
   "source": [
    "### Cleaning"
   ]
  },
  {
   "cell_type": "markdown",
   "metadata": {},
   "source": [
    "First, we convert the pool column to string."
   ]
  },
  {
   "cell_type": "code",
   "execution_count": 10,
   "metadata": {},
   "outputs": [],
   "source": [
    "#function to parse pool\n",
    "def getPool(row):\n",
    "    pool = row['pool']['id']\n",
    "    return pool\n",
    "\n",
    "#apply to convert pool column to string\n",
    "df_token_data['pool'] = df_token_data.apply(lambda x: getPool(x), axis=1)"
   ]
  },
  {
   "cell_type": "markdown",
   "metadata": {},
   "source": [
    "Next, we convert the numeric columns to floats."
   ]
  },
  {
   "cell_type": "code",
   "execution_count": 11,
   "metadata": {},
   "outputs": [],
   "source": [
    "#change numeric columns to type float\n",
    "df_token_data['reserveLiquidationBonus']=df_token_data['reserveLiquidationBonus'].astype(float)\n",
    "df_token_data['reserveLiquidationThreshold']=df_token_data['reserveLiquidationThreshold'].astype(float)"
   ]
  },
  {
   "cell_type": "code",
   "execution_count": 12,
   "metadata": {},
   "outputs": [
    {
     "data": {
      "text/html": [
       "<div>\n",
       "<style scoped>\n",
       "    .dataframe tbody tr th:only-of-type {\n",
       "        vertical-align: middle;\n",
       "    }\n",
       "\n",
       "    .dataframe tbody tr th {\n",
       "        vertical-align: top;\n",
       "    }\n",
       "\n",
       "    .dataframe thead th {\n",
       "        text-align: right;\n",
       "    }\n",
       "</style>\n",
       "<table border=\"1\" class=\"dataframe\">\n",
       "  <thead>\n",
       "    <tr style=\"text-align: right;\">\n",
       "      <th></th>\n",
       "      <th>borrowingEnabled</th>\n",
       "      <th>decimals</th>\n",
       "      <th>id</th>\n",
       "      <th>pool</th>\n",
       "      <th>reserveLiquidationBonus</th>\n",
       "      <th>reserveLiquidationThreshold</th>\n",
       "      <th>stableBorrowRateEnabled</th>\n",
       "      <th>symbol</th>\n",
       "      <th>usageAsCollateralEnabled</th>\n",
       "    </tr>\n",
       "  </thead>\n",
       "  <tbody>\n",
       "    <tr>\n",
       "      <th>0</th>\n",
       "      <td>True</td>\n",
       "      <td>18</td>\n",
       "      <td>0x0000000000085d4780b73119b644ae5ecd22b3760xb5...</td>\n",
       "      <td>0xb53c1a33016b2dc2ff3653530bff1848a515c8c5</td>\n",
       "      <td>10500.0</td>\n",
       "      <td>8250.0</td>\n",
       "      <td>True</td>\n",
       "      <td>TUSD</td>\n",
       "      <td>True</td>\n",
       "    </tr>\n",
       "    <tr>\n",
       "      <th>1</th>\n",
       "      <td>False</td>\n",
       "      <td>18</td>\n",
       "      <td>0x004375dff511095cc5a197a54140a24efef3a4160xac...</td>\n",
       "      <td>0xacc030ef66f9dfeae9cbb0cd1b25654b82cfa8d5</td>\n",
       "      <td>11500.0</td>\n",
       "      <td>7000.0</td>\n",
       "      <td>False</td>\n",
       "      <td>AmmUniWBTCUSDC</td>\n",
       "      <td>True</td>\n",
       "    </tr>\n",
       "    <tr>\n",
       "      <th>2</th>\n",
       "      <td>True</td>\n",
       "      <td>18</td>\n",
       "      <td>0x03ab458634910aad20ef5f1c8ee96f1d6ac549190xb5...</td>\n",
       "      <td>0xb53c1a33016b2dc2ff3653530bff1848a515c8c5</td>\n",
       "      <td>0.0</td>\n",
       "      <td>0.0</td>\n",
       "      <td>False</td>\n",
       "      <td>RAI</td>\n",
       "      <td>False</td>\n",
       "    </tr>\n",
       "    <tr>\n",
       "      <th>3</th>\n",
       "      <td>True</td>\n",
       "      <td>2</td>\n",
       "      <td>0x056fd409e1d7a124bd7017459dfea2f387b6d5cd0xb5...</td>\n",
       "      <td>0xb53c1a33016b2dc2ff3653530bff1848a515c8c5</td>\n",
       "      <td>0.0</td>\n",
       "      <td>0.0</td>\n",
       "      <td>False</td>\n",
       "      <td>GUSD</td>\n",
       "      <td>False</td>\n",
       "    </tr>\n",
       "    <tr>\n",
       "      <th>4</th>\n",
       "      <td>True</td>\n",
       "      <td>18</td>\n",
       "      <td>0x0bc529c00c6401aef6d220be8c6ea1667f6ad93e0xb5...</td>\n",
       "      <td>0xb53c1a33016b2dc2ff3653530bff1848a515c8c5</td>\n",
       "      <td>11000.0</td>\n",
       "      <td>6000.0</td>\n",
       "      <td>False</td>\n",
       "      <td>YFI</td>\n",
       "      <td>True</td>\n",
       "    </tr>\n",
       "  </tbody>\n",
       "</table>\n",
       "</div>"
      ],
      "text/plain": [
       "   borrowingEnabled  decimals  \\\n",
       "0              True        18   \n",
       "1             False        18   \n",
       "2              True        18   \n",
       "3              True         2   \n",
       "4              True        18   \n",
       "\n",
       "                                                  id  \\\n",
       "0  0x0000000000085d4780b73119b644ae5ecd22b3760xb5...   \n",
       "1  0x004375dff511095cc5a197a54140a24efef3a4160xac...   \n",
       "2  0x03ab458634910aad20ef5f1c8ee96f1d6ac549190xb5...   \n",
       "3  0x056fd409e1d7a124bd7017459dfea2f387b6d5cd0xb5...   \n",
       "4  0x0bc529c00c6401aef6d220be8c6ea1667f6ad93e0xb5...   \n",
       "\n",
       "                                         pool  reserveLiquidationBonus  \\\n",
       "0  0xb53c1a33016b2dc2ff3653530bff1848a515c8c5                  10500.0   \n",
       "1  0xacc030ef66f9dfeae9cbb0cd1b25654b82cfa8d5                  11500.0   \n",
       "2  0xb53c1a33016b2dc2ff3653530bff1848a515c8c5                      0.0   \n",
       "3  0xb53c1a33016b2dc2ff3653530bff1848a515c8c5                      0.0   \n",
       "4  0xb53c1a33016b2dc2ff3653530bff1848a515c8c5                  11000.0   \n",
       "\n",
       "   reserveLiquidationThreshold  stableBorrowRateEnabled          symbol  \\\n",
       "0                       8250.0                     True            TUSD   \n",
       "1                       7000.0                    False  AmmUniWBTCUSDC   \n",
       "2                          0.0                    False             RAI   \n",
       "3                          0.0                    False            GUSD   \n",
       "4                       6000.0                    False             YFI   \n",
       "\n",
       "   usageAsCollateralEnabled  \n",
       "0                      True  \n",
       "1                      True  \n",
       "2                     False  \n",
       "3                     False  \n",
       "4                      True  "
      ]
     },
     "execution_count": 12,
     "metadata": {},
     "output_type": "execute_result"
    }
   ],
   "source": [
    "df_token_data.head()"
   ]
  },
  {
   "cell_type": "markdown",
   "metadata": {},
   "source": [
    "Finally, we save the data as a csv file."
   ]
  },
  {
   "cell_type": "code",
   "execution_count": 13,
   "metadata": {},
   "outputs": [],
   "source": [
    "#save to csv file\n",
    "df_token_data.to_csv(\"tokens.csv\",index=False)"
   ]
  },
  {
   "cell_type": "markdown",
   "metadata": {},
   "source": [
    "### Analysis"
   ]
  },
  {
   "cell_type": "markdown",
   "metadata": {},
   "source": [
    "Below, we create a bar chart to show the number of coins that have borrowing enabled. The majority of coins have borrowing enabled."
   ]
  },
  {
   "cell_type": "code",
   "execution_count": 14,
   "metadata": {},
   "outputs": [
    {
     "data": {
      "image/png": "[encoded data removed]",
      "text/plain": [
       "<Figure size 432x288 with 1 Axes>"
      ]
     },
     "metadata": {
      "needs_background": "light"
     },
     "output_type": "display_data"
    }
   ],
   "source": [
    "#get value counts for columns\n",
    "metric='borrowingEnabled'\n",
    "stats = df_token_data[metric].value_counts()\n",
    "\n",
    "#create barplot\n",
    "sns.barplot(x=stats.index,y=stats.values)\n",
    "plt.title(metric)\n",
    "plt.show()"
   ]
  },
  {
   "cell_type": "markdown",
   "metadata": {},
   "source": [
    "Next, we examine which coins can be used as collateral. The vast majority coins are available to be used as collateral."
   ]
  },
  {
   "cell_type": "code",
   "execution_count": 15,
   "metadata": {},
   "outputs": [
    {
     "data": {
      "image/png": "[encoded data removed]",
      "text/plain": [
       "<Figure size 432x288 with 1 Axes>"
      ]
     },
     "metadata": {
      "needs_background": "light"
     },
     "output_type": "display_data"
    }
   ],
   "source": [
    "#get value counts for columns\n",
    "metric='usageAsCollateralEnabled'\n",
    "stats = df_token_data[metric].value_counts()\n",
    "\n",
    "#create barplot\n",
    "sns.barplot(x=stats.index,y=stats.values)\n",
    "plt.title(metric)\n",
    "plt.show()"
   ]
  },
  {
   "cell_type": "markdown",
   "metadata": {},
   "source": [
    "Now, we examine the number of coins that have stable borrow rates enabled. We can see that most coins do not have stable borrow rates enabled."
   ]
  },
  {
   "cell_type": "code",
   "execution_count": 16,
   "metadata": {},
   "outputs": [
    {
     "data": {
      "image/png": "[encoded data removed]",
      "text/plain": [
       "<Figure size 432x288 with 1 Axes>"
      ]
     },
     "metadata": {
      "needs_background": "light"
     },
     "output_type": "display_data"
    }
   ],
   "source": [
    "#get value counts for columns\n",
    "metric='stableBorrowRateEnabled'\n",
    "stats = df_token_data[metric].value_counts()\n",
    "\n",
    "#create barplot\n",
    "sns.barplot(x=stats.index,y=stats.values)\n",
    "plt.title(metric)\n",
    "plt.show()"
   ]
  },
  {
   "cell_type": "markdown",
   "metadata": {},
   "source": [
    "We create a swarmplot to show the distribution of reserve liquidation bonuses. It seems that this column is not continous. Many coins have a bonus of 0, whereas the rest of coins have a bonus ranging from 10,000 - 12,000."
   ]
  },
  {
   "cell_type": "code",
   "execution_count": 17,
   "metadata": {},
   "outputs": [
    {
     "data": {
      "image/png": "[encoded data removed]",
      "text/plain": [
       "<Figure size 432x288 with 1 Axes>"
      ]
     },
     "metadata": {
      "needs_background": "light"
     },
     "output_type": "display_data"
    }
   ],
   "source": [
    "#create swarmplot\n",
    "sns.swarmplot(data=df_token_data,x='reserveLiquidationBonus')\n",
    "plt.title('reserveLiquidationBonus')\n",
    "plt.show()"
   ]
  },
  {
   "cell_type": "markdown",
   "metadata": {},
   "source": [
    "Finally, we analyze the reserve liquidation threshold for coins. Many have a threshold of 0, where the rest have a threshold centered around 7,000."
   ]
  },
  {
   "cell_type": "code",
   "execution_count": 18,
   "metadata": {},
   "outputs": [
    {
     "data": {
      "image/png": "[encoded data removed]",
      "text/plain": [
       "<Figure size 432x288 with 1 Axes>"
      ]
     },
     "metadata": {
      "needs_background": "light"
     },
     "output_type": "display_data"
    }
   ],
   "source": [
    "#create swarmplot\n",
    "sns.swarmplot(data=df_token_data,x='reserveLiquidationThreshold')\n",
    "plt.title('reserveLiquidationThreshold')\n",
    "plt.show()"
   ]
  }
 ],
 "metadata": {
  "kernelspec": {
   "display_name": "Python [conda env:blockchain]",
   "language": "python",
   "name": "conda-env-blockchain-py"
  },
  "language_info": {
   "codemirror_mode": {
    "name": "ipython",
    "version": 3
   },
   "file_extension": ".py",
   "mimetype": "text/x-python",
   "name": "python",
   "nbconvert_exporter": "python",
   "pygments_lexer": "ipython3",
   "version": "3.8.10"
  }
 },
 "nbformat": 4,
 "nbformat_minor": 2
}
