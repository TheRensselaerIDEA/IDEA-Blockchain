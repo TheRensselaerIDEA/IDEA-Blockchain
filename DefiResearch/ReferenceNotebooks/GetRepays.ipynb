{
 "cells": [
  {
   "cell_type": "markdown",
   "metadata": {},
   "source": [
    "# Get Repays"
   ]
  },
  {
   "cell_type": "markdown",
   "metadata": {},
   "source": [
    "In this notebook, we compile the data for borrow transactions from the API."
   ]
  },
  {
   "cell_type": "code",
   "execution_count": 1,
   "metadata": {},
   "outputs": [
    {
     "name": "stderr",
     "output_type": "stream",
     "text": [
      "In C:\\Users\\CCCam\\Miniconda3\\lib\\site-packages\\matplotlib\\mpl-data\\stylelib\\_classic_test.mplstyle: \n",
      "The text.latex.preview rcparam was deprecated in Matplotlib 3.3 and will be removed two minor releases later.\n",
      "In C:\\Users\\CCCam\\Miniconda3\\lib\\site-packages\\matplotlib\\mpl-data\\stylelib\\_classic_test.mplstyle: \n",
      "The mathtext.fallback_to_cm rcparam was deprecated in Matplotlib 3.3 and will be removed two minor releases later.\n",
      "In C:\\Users\\CCCam\\Miniconda3\\lib\\site-packages\\matplotlib\\mpl-data\\stylelib\\_classic_test.mplstyle: Support for setting the 'mathtext.fallback_to_cm' rcParam is deprecated since 3.3 and will be removed two minor releases later; use 'mathtext.fallback : 'cm' instead.\n",
      "In C:\\Users\\CCCam\\Miniconda3\\lib\\site-packages\\matplotlib\\mpl-data\\stylelib\\_classic_test.mplstyle: \n",
      "The validate_bool_maybe_none function was deprecated in Matplotlib 3.3 and will be removed two minor releases later.\n",
      "In C:\\Users\\CCCam\\Miniconda3\\lib\\site-packages\\matplotlib\\mpl-data\\stylelib\\_classic_test.mplstyle: \n",
      "The savefig.jpeg_quality rcparam was deprecated in Matplotlib 3.3 and will be removed two minor releases later.\n",
      "In C:\\Users\\CCCam\\Miniconda3\\lib\\site-packages\\matplotlib\\mpl-data\\stylelib\\_classic_test.mplstyle: \n",
      "The keymap.all_axes rcparam was deprecated in Matplotlib 3.3 and will be removed two minor releases later.\n",
      "In C:\\Users\\CCCam\\Miniconda3\\lib\\site-packages\\matplotlib\\mpl-data\\stylelib\\_classic_test.mplstyle: \n",
      "The animation.avconv_path rcparam was deprecated in Matplotlib 3.3 and will be removed two minor releases later.\n",
      "In C:\\Users\\CCCam\\Miniconda3\\lib\\site-packages\\matplotlib\\mpl-data\\stylelib\\_classic_test.mplstyle: \n",
      "The animation.avconv_args rcparam was deprecated in Matplotlib 3.3 and will be removed two minor releases later.\n"
     ]
    }
   ],
   "source": [
    "#import packages\n",
    "import requests\n",
    "import json\n",
    "import pandas as pd\n",
    "import seaborn as sns\n",
    "import matplotlib.pyplot as plt\n",
    "from datetime import datetime\n",
    "import numpy as np\n",
    "import matplotlib.dates as md\n",
    "import math\n",
    "import time"
   ]
  },
  {
   "cell_type": "markdown",
   "metadata": {},
   "source": [
    "## Fetch Repay Transaction Data"
   ]
  },
  {
   "cell_type": "markdown",
   "metadata": {},
   "source": [
    "First, if this data was previously compiled, we load the existing data."
   ]
  },
  {
   "cell_type": "code",
   "execution_count": 2,
   "metadata": {},
   "outputs": [
    {
     "name": "stdout",
     "output_type": "stream",
     "text": [
      "<class 'pandas.core.frame.DataFrame'>\n",
      "RangeIndex: 86575 entries, 0 to 86574\n",
      "Data columns (total 11 columns):\n",
      " #   Column           Non-Null Count  Dtype  \n",
      "---  ------           --------------  -----  \n",
      " 0   amount           86575 non-null  float64\n",
      " 1   onBehalfOf       86575 non-null  object \n",
      " 2   pool             86575 non-null  object \n",
      " 3   reserve          86575 non-null  object \n",
      " 4   timestamp        86575 non-null  int64  \n",
      " 5   user             86575 non-null  object \n",
      " 6   type             86575 non-null  object \n",
      " 7   reservePriceETH  86575 non-null  float64\n",
      " 8   reservePriceUSD  86575 non-null  float64\n",
      " 9   amountETH        86575 non-null  float64\n",
      " 10  amountUSD        86575 non-null  float64\n",
      "dtypes: float64(5), int64(1), object(5)\n",
      "memory usage: 7.3+ MB\n"
     ]
    }
   ],
   "source": [
    "start_time = 0\n",
    "try:\n",
    "    old_data = pd.read_csv('repays.csv')\n",
    "    exists = True\n",
    "    start_time = old_data['timestamp'].max()\n",
    "    old_data.info()\n",
    "except:\n",
    "    old_data = pd.DataFrame()\n",
    "    exists = False"
   ]
  },
  {
   "cell_type": "markdown",
   "metadata": {},
   "source": [
    "Here, we write a query to fetch transaction information from the API."
   ]
  },
  {
   "cell_type": "code",
   "execution_count": 3,
   "metadata": {},
   "outputs": [
    {
     "name": "stdout",
     "output_type": "stream",
     "text": [
      "<class 'pandas.core.frame.DataFrame'>\n",
      "RangeIndex: 3271 entries, 0 to 3270\n",
      "Data columns (total 8 columns):\n",
      " #   Column      Non-Null Count  Dtype \n",
      "---  ------      --------------  ----- \n",
      " 0   id          3271 non-null   object\n",
      " 1   user        3271 non-null   object\n",
      " 2   onBehalfOf  3271 non-null   object\n",
      " 3   pool        3271 non-null   object\n",
      " 4   amount      3271 non-null   object\n",
      " 5   reserve     3271 non-null   object\n",
      " 6   timestamp   3271 non-null   int64 \n",
      " 7   type        3271 non-null   object\n",
      "dtypes: int64(1), object(7)\n",
      "memory usage: 204.6+ KB\n"
     ]
    }
   ],
   "source": [
    "lastId='\"\"'\n",
    "repay_data = []\n",
    "#loop until no more data left\n",
    "while(1):\n",
    "    try:\n",
    "        #set query\n",
    "        query=\"\"\"\n",
    "        {\n",
    "            repays (first: 1000 orderBy: id where:{id_gt:\"\"\"+lastId+\"\"\",timestamp_gt:\"\"\"+str(start_time)+\"\"\"}) {\n",
    "            id,\n",
    "            user{\n",
    "                id\n",
    "            }\n",
    "            onBehalfOf{\n",
    "                id\n",
    "            }\n",
    "            pool{\n",
    "                id\n",
    "            }\n",
    "            amount,\n",
    "            reserve {\n",
    "              id,\n",
    "              symbol\n",
    "            },\n",
    "            timestamp\n",
    "            }\n",
    "        }\n",
    "        \"\"\"\n",
    "        #make request\n",
    "        url = 'https://api.thegraph.com/subgraphs/name/aave/protocol-v2'\n",
    "        request = requests.post(url,json={'query':query})\n",
    "        #store data\n",
    "        repay_data.extend(request.json()['data']['repays'])\n",
    "        lastId = \"\\\"\"+request.json()['data']['repays'][-1]['id']+\"\\\"\"\n",
    "    except:\n",
    "        #exit when no more data left to get\n",
    "        break\n",
    "\n",
    "#create borrows data frame\n",
    "df_repays = pd.DataFrame(repay_data)\n",
    "df_repays['type']='repay'\n",
    "df_repays.info()"
   ]
  },
  {
   "cell_type": "markdown",
   "metadata": {},
   "source": [
    "### Re-Format Repay Transaction Data"
   ]
  },
  {
   "cell_type": "markdown",
   "metadata": {},
   "source": [
    "Some of the values in the dataset are dictionaries, so we must re-format the data to get the wanted field from those dictionaries."
   ]
  },
  {
   "cell_type": "code",
   "execution_count": 4,
   "metadata": {},
   "outputs": [],
   "source": [
    "#get id's\n",
    "def getUser(row):\n",
    "    return row['user']['id']\n",
    "df_repays['user']=df_repays.apply(lambda x: getUser(x), axis=1)\n",
    "\n",
    "def getOnBehalfOf(row):\n",
    "    if not isinstance(row['onBehalfOf'],float):\n",
    "        return row['onBehalfOf']['id']\n",
    "    else:\n",
    "        return np.nan\n",
    "df_repays['onBehalfOf']=df_repays.apply(lambda x: getOnBehalfOf(x), axis=1)\n",
    "\n",
    "def getPool(row):\n",
    "    return row['pool']['id']\n",
    "df_repays['pool']=df_repays.apply(lambda x: getPool(x), axis=1)\n",
    "\n",
    "#get symbols\n",
    "def getReserve(row):\n",
    "    if not isinstance(row['reserve'],float):\n",
    "        return row['reserve']['symbol']\n",
    "    else:\n",
    "        return np.nan\n",
    "df_repays['reserve']=df_repays.apply(lambda x: getReserve(x), axis=1)"
   ]
  },
  {
   "cell_type": "markdown",
   "metadata": {},
   "source": [
    "### Fetch Price Data"
   ]
  },
  {
   "cell_type": "markdown",
   "metadata": {},
   "source": [
    "The API does not list the price of the asset for each transaction, so we must gather this information in another way. We can search for the most recent price of the desired asset before the transaction occurred. Prices are reported in Ether, not USD. Because of this, we also get the price of Tether at the time of the transaction. Tether is a stable coin, so its price should always be close to one dollar. We will divide the asset price by the price of Tether to determine the price of the asset in USD. "
   ]
  },
  {
   "cell_type": "code",
   "execution_count": 5,
   "metadata": {},
   "outputs": [
    {
     "name": "stdout",
     "output_type": "stream",
     "text": [
      "getting repay prices...\n"
     ]
    }
   ],
   "source": [
    "pricesSym=[]\n",
    "pricesUSDT=[]\n",
    "i=0\n",
    "#get prices for each asset at time of transaction, and price for USDT at time of transaction\n",
    "def getPrice(row, sym):\n",
    "    global i\n",
    "    \n",
    "    #get symbol and time\n",
    "    symbol = row[sym]\n",
    "    timestamp = row['timestamp']\n",
    "    \n",
    "    #there doesn't seem to be price data for ammWETH, so instead we will just substitute WETH as they have the same price\n",
    "    if symbol =='AmmWETH':\n",
    "        symbol='WETH'\n",
    "    \n",
    "    #get query\n",
    "    query=\"\"\"\n",
    "    {\n",
    "    reserves(where: { symbol_in:[\"USDT\",\\\"\"\"\"+symbol+\"\"\"\\\"] }){\n",
    "        symbol,\n",
    "        price{\n",
    "            priceInEth,\n",
    "            priceHistory(where:{timestamp_lte: \"\"\"+str(timestamp)+\"\"\"} orderBy: timestamp orderDirection: desc first:1){\n",
    "                price,\n",
    "                timestamp\n",
    "              }\n",
    "            }\n",
    "          }\n",
    "        }    \n",
    "    \"\"\"\n",
    "    #keep trying request until it is successful\n",
    "    while(True):\n",
    "        try:\n",
    "            #get json\n",
    "            url = 'https://api.thegraph.com/subgraphs/name/aave/protocol-v2'\n",
    "            request = requests.post(url,json={'query':query})\n",
    "            req_json = request.json()\n",
    "            break\n",
    "        except:\n",
    "            #if request unsuccessful, try again in 10 seconds\n",
    "            print('stalling')\n",
    "            time.sleep(10)\n",
    " \n",
    "    try:\n",
    "        #if only data for 1 asset...\n",
    "        if len(req_json['data']['reserves'])<2:\n",
    "            #if USDT, add data\n",
    "            if symbol==\"USDT\":\n",
    "                pricesSym.append(req_json['data']['reserves'][0]['price']['priceHistory'][0]['price'])\n",
    "                pricesUSDT.append(req_json['data']['reserves'][0]['price']['priceHistory'][0]['price'])\n",
    "            #otherwise, symbol not found\n",
    "            else:\n",
    "                pricesSym.append(np.nan)\n",
    "                pricesUSDT.append(np.nan)\n",
    "        #if both present...\n",
    "        else:\n",
    "            #ensure price data exists for asset\n",
    "            phistory = req_json['data']['reserves'][0]['price']['priceHistory']\n",
    "            #if data not available, set as null\n",
    "            if len(phistory)==0:\n",
    "                #WETH doesn't seem to return a priceHistory list, so we the priceInETH column \n",
    "                #(as the price in ETH for WETH is always 1)\n",
    "                if symbol=='WETH' or symbol=='AmmWETH':\n",
    "                    pricesSym.append(req_json['data']['reserves'][0]['price']['priceInEth'])\n",
    "                    pricesUSDT.append(req_json['data']['reserves'][1]['price']['priceHistory'][0]['price'])\n",
    "                else:\n",
    "                    pricesSym.append(np.nan)\n",
    "                    pricesUSDT.append(req_json['data']['reserves'][1]['price']['priceHistory'][0]['price'])\n",
    "            #otherwise add data\n",
    "            else:\n",
    "                pricesSym.append(phistory[0]['price'])\n",
    "                pricesUSDT.append(req_json['data']['reserves'][1]['price']['priceHistory'][0]['price'])\n",
    "    except:\n",
    "        print('ERROR')\n",
    "        print(req_json)\n",
    "        return\n",
    "    \n",
    "    #update progress\n",
    "    i+=1\n",
    "    if i%5000==0:\n",
    "        print(i)\n",
    "        \n",
    "#get borrow prices\n",
    "print('getting repay prices...')\n",
    "df_repays.apply(lambda x: getPrice(x,'reserve'),axis=1)\n",
    "\n",
    "df_repays['priceSym']=pricesSym\n",
    "df_repays['priceUSDT']=pricesUSDT"
   ]
  },
  {
   "cell_type": "markdown",
   "metadata": {},
   "source": [
    "### Get Decimal Data"
   ]
  },
  {
   "cell_type": "markdown",
   "metadata": {},
   "source": [
    "The amount value is reported in units of the lowest denomination for each currency. To standardize these values, we must know the number of decimals each currency is reported in. The following query creates a dictionary holding the number of decimals for each currency."
   ]
  },
  {
   "cell_type": "code",
   "execution_count": 6,
   "metadata": {},
   "outputs": [
    {
     "data": {
      "text/plain": [
       "{'TUSD': 18,\n",
       " 'AmmUniWBTCUSDC': 18,\n",
       " 'RAI': 18,\n",
       " 'GUSD': 2,\n",
       " 'YFI': 18,\n",
       " 'BAT': 18,\n",
       " 'MANA': 18,\n",
       " 'DPI': 18,\n",
       " 'AmmBptWBTCWETH': 18,\n",
       " 'UNI': 18,\n",
       " 'AmmWBTC': 8,\n",
       " 'WBTC': 8,\n",
       " 'AmmUniYFIWETH': 18,\n",
       " 'AmmUniCRVWETH': 18,\n",
       " 'REN': 18,\n",
       " 'AmmUniSNXWETH': 18,\n",
       " 'BUSD': 18,\n",
       " 'AmmGUniDAIUSDC': 18,\n",
       " 'LINK': 18,\n",
       " 'SUSD': 18,\n",
       " 'AmmBptBALWETH': 18,\n",
       " 'AmmDAI': 18,\n",
       " 'DAI': 18,\n",
       " 'AAVE': 18,\n",
       " 'FRAX': 18,\n",
       " 'XSUSHI': 18,\n",
       " 'AmmUniRENWETH': 18,\n",
       " 'PAX': 18,\n",
       " 'FEI': 18,\n",
       " 'MKR': 18,\n",
       " 'AmmUSDC': 6,\n",
       " 'USDC': 6,\n",
       " 'AmmUniLINKWETH': 18,\n",
       " 'AmmUniDAIWETH': 18,\n",
       " 'AmmUniDAIUSDC': 18,\n",
       " 'STETH': 18,\n",
       " 'AmmUniUSDCWETH': 18,\n",
       " 'AmmUniBATWETH': 18,\n",
       " 'BAL': 18,\n",
       " 'AmmUniWBTCWETH': 18,\n",
       " 'SNX': 18,\n",
       " 'AmmWETH': 18,\n",
       " 'WETH': 18,\n",
       " 'AmmUniMKRWETH': 18,\n",
       " 'AmmGUniUSDCUSDT': 18,\n",
       " 'AmmUniUNIWETH': 18,\n",
       " 'AMPL': 9,\n",
       " 'RENFIL': 18,\n",
       " 'CRV': 18,\n",
       " 'AmmUSDT': 6,\n",
       " 'USDT': 6,\n",
       " 'KNC': 18,\n",
       " 'AmmUniAAVEWETH': 18,\n",
       " 'ZRX': 18,\n",
       " 'ENJ': 18}"
      ]
     },
     "execution_count": 6,
     "metadata": {},
     "output_type": "execute_result"
    }
   ],
   "source": [
    "#set query\n",
    "query=\"\"\"\n",
    "        {\n",
    "  reserves(first:1000){\n",
    "    symbol\n",
    "    decimals\n",
    "  }\n",
    "}\n",
    "        \"\"\"\n",
    "#make request\n",
    "url = 'https://api.thegraph.com/subgraphs/name/aave/protocol-v2'\n",
    "request = requests.post(url,json={'query':query})\n",
    "jsondata=request.json()['data']['reserves']\n",
    "\n",
    "#create dictionary of the number of decimals in each asset\n",
    "decimals=dict()\n",
    "for data in jsondata:\n",
    "    decimals[data['symbol']]=int(data['decimals'])\n",
    "    \n",
    "decimals"
   ]
  },
  {
   "cell_type": "markdown",
   "metadata": {},
   "source": [
    "### Adjust Amount"
   ]
  },
  {
   "cell_type": "markdown",
   "metadata": {},
   "source": [
    "Next, we convert the amount column to type float. Then, with the information we gathered above, we write a function to adjust the transaction amounts. "
   ]
  },
  {
   "cell_type": "code",
   "execution_count": 7,
   "metadata": {},
   "outputs": [],
   "source": [
    "#transform amount column to float\n",
    "df_repays['amount']=df_repays['amount'].astype(float)"
   ]
  },
  {
   "cell_type": "code",
   "execution_count": 8,
   "metadata": {},
   "outputs": [
    {
     "data": {
      "text/plain": [
       "count    3.271000e+03\n",
       "mean     5.504758e+05\n",
       "std      4.576628e+06\n",
       "min      3.797500e-14\n",
       "25%      2.093528e+03\n",
       "50%      1.532111e+04\n",
       "75%      7.992115e+04\n",
       "max      1.078706e+08\n",
       "Name: amount, dtype: float64"
      ]
     },
     "execution_count": 8,
     "metadata": {},
     "output_type": "execute_result"
    }
   ],
   "source": [
    "#function to divide each amount based on the reserve\n",
    "def adjustAmount(row):\n",
    "    decs = decimals[row['reserve']]\n",
    "    return row['amount']/(10**decs)\n",
    "\n",
    "#adjust amounts\n",
    "df_repays['amount']=df_repays.apply(lambda x: adjustAmount(x),axis=1)\n",
    "df_repays['amount'].describe()"
   ]
  },
  {
   "cell_type": "markdown",
   "metadata": {},
   "source": [
    "### Re-Format Price Data"
   ]
  },
  {
   "cell_type": "markdown",
   "metadata": {},
   "source": [
    "We format the raw price data so that the prices are reported in USD. We will also determine the total amount of the transaction in USD."
   ]
  },
  {
   "cell_type": "code",
   "execution_count": 9,
   "metadata": {},
   "outputs": [],
   "source": [
    "#get the prices in ethereum and in USD\n",
    "df_repays['reservePriceETH'] = df_repays['priceSym'].astype(float)\n",
    "df_repays['reservePriceUSD'] = df_repays['reservePriceETH']*(1/(df_repays['priceUSDT'].astype(float)))\n",
    "df_repays['reservePriceETH'] = df_repays['reservePriceETH']/1e18\n",
    "\n",
    "#get amount in ETH\n",
    "df_repays['amountETH'] = df_repays['amount'].astype(float)*df_repays['reservePriceETH']\n",
    "\n",
    "#get amount in USD\n",
    "df_repays['amountUSD']=df_repays['amount'].astype(float)*df_repays['reservePriceUSD']                                     \n",
    "\n",
    "#drop redundent columns\n",
    "df_repays.drop(columns=['priceSym','priceUSDT'],inplace=True)\n",
    "                                               \n",
    "#reset index\n",
    "df_repays = df_repays.set_index('id')           "
   ]
  },
  {
   "cell_type": "markdown",
   "metadata": {},
   "source": [
    "### Save Final Data Frame"
   ]
  },
  {
   "cell_type": "markdown",
   "metadata": {},
   "source": [
    "Finally, we save the dataframe to a csv file."
   ]
  },
  {
   "cell_type": "code",
   "execution_count": 10,
   "metadata": {},
   "outputs": [
    {
     "name": "stdout",
     "output_type": "stream",
     "text": [
      "<class 'pandas.core.frame.DataFrame'>\n",
      "Index: 89846 entries, 0 to 0xfffba79f5164528608f74834e2ed63bf05e65e3f9e4f4867b21febb7e70ca77d:4\n",
      "Data columns (total 11 columns):\n",
      " #   Column           Non-Null Count  Dtype  \n",
      "---  ------           --------------  -----  \n",
      " 0   amount           89846 non-null  float64\n",
      " 1   onBehalfOf       89846 non-null  object \n",
      " 2   pool             89846 non-null  object \n",
      " 3   reserve          89846 non-null  object \n",
      " 4   timestamp        89846 non-null  int64  \n",
      " 5   user             89846 non-null  object \n",
      " 6   type             89846 non-null  object \n",
      " 7   reservePriceETH  89846 non-null  float64\n",
      " 8   reservePriceUSD  89846 non-null  float64\n",
      " 9   amountETH        89846 non-null  float64\n",
      " 10  amountUSD        89846 non-null  float64\n",
      "dtypes: float64(5), int64(1), object(5)\n",
      "memory usage: 8.2+ MB\n"
     ]
    }
   ],
   "source": [
    "df_repays = old_data.append(df_repays)\n",
    "df_repays.info()"
   ]
  },
  {
   "cell_type": "code",
   "execution_count": 11,
   "metadata": {},
   "outputs": [],
   "source": [
    "df_repays.to_csv(\"repays.csv\",index=False)"
   ]
  }
 ],
 "metadata": {
  "kernelspec": {
   "display_name": "Python 3",
   "language": "python",
   "name": "python3"
  },
  "language_info": {
   "codemirror_mode": {
    "name": "ipython",
    "version": 3
   },
   "file_extension": ".py",
   "mimetype": "text/x-python",
   "name": "python",
   "nbconvert_exporter": "python",
   "pygments_lexer": "ipython3",
   "version": "3.7.3"
  },
  "toc": {
   "base_numbering": 1,
   "nav_menu": {},
   "number_sections": true,
   "sideBar": true,
   "skip_h1_title": false,
   "title_cell": "Table of Contents",
   "title_sidebar": "Contents",
   "toc_cell": false,
   "toc_position": {},
   "toc_section_display": true,
   "toc_window_display": false
  }
 },
 "nbformat": 4,
 "nbformat_minor": 2
}
