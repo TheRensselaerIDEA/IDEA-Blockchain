{
 "cells": [
  {
   "cell_type": "markdown",
   "metadata": {},
   "source": [
    "# Get Collateral"
   ]
  },
  {
   "cell_type": "markdown",
   "metadata": {},
   "source": [
    "In this notebook, we compile the data for collateral change transactions from the API."
   ]
  },
  {
   "cell_type": "code",
   "execution_count": 1,
   "metadata": {},
   "outputs": [
    {
     "name": "stderr",
     "output_type": "stream",
     "text": [
      "In C:\\Users\\CCCam\\Miniconda3\\lib\\site-packages\\matplotlib\\mpl-data\\stylelib\\_classic_test.mplstyle: \n",
      "The text.latex.preview rcparam was deprecated in Matplotlib 3.3 and will be removed two minor releases later.\n",
      "In C:\\Users\\CCCam\\Miniconda3\\lib\\site-packages\\matplotlib\\mpl-data\\stylelib\\_classic_test.mplstyle: \n",
      "The mathtext.fallback_to_cm rcparam was deprecated in Matplotlib 3.3 and will be removed two minor releases later.\n",
      "In C:\\Users\\CCCam\\Miniconda3\\lib\\site-packages\\matplotlib\\mpl-data\\stylelib\\_classic_test.mplstyle: Support for setting the 'mathtext.fallback_to_cm' rcParam is deprecated since 3.3 and will be removed two minor releases later; use 'mathtext.fallback : 'cm' instead.\n",
      "In C:\\Users\\CCCam\\Miniconda3\\lib\\site-packages\\matplotlib\\mpl-data\\stylelib\\_classic_test.mplstyle: \n",
      "The validate_bool_maybe_none function was deprecated in Matplotlib 3.3 and will be removed two minor releases later.\n",
      "In C:\\Users\\CCCam\\Miniconda3\\lib\\site-packages\\matplotlib\\mpl-data\\stylelib\\_classic_test.mplstyle: \n",
      "The savefig.jpeg_quality rcparam was deprecated in Matplotlib 3.3 and will be removed two minor releases later.\n",
      "In C:\\Users\\CCCam\\Miniconda3\\lib\\site-packages\\matplotlib\\mpl-data\\stylelib\\_classic_test.mplstyle: \n",
      "The keymap.all_axes rcparam was deprecated in Matplotlib 3.3 and will be removed two minor releases later.\n",
      "In C:\\Users\\CCCam\\Miniconda3\\lib\\site-packages\\matplotlib\\mpl-data\\stylelib\\_classic_test.mplstyle: \n",
      "The animation.avconv_path rcparam was deprecated in Matplotlib 3.3 and will be removed two minor releases later.\n",
      "In C:\\Users\\CCCam\\Miniconda3\\lib\\site-packages\\matplotlib\\mpl-data\\stylelib\\_classic_test.mplstyle: \n",
      "The animation.avconv_args rcparam was deprecated in Matplotlib 3.3 and will be removed two minor releases later.\n"
     ]
    }
   ],
   "source": [
    "#import packages\n",
    "import requests\n",
    "import json\n",
    "import pandas as pd\n",
    "import seaborn as sns\n",
    "import matplotlib.pyplot as plt\n",
    "from datetime import datetime\n",
    "import numpy as np\n",
    "import matplotlib.dates as md\n",
    "import math\n",
    "import time"
   ]
  },
  {
   "cell_type": "markdown",
   "metadata": {},
   "source": [
    "## Fetch Collateral Change Transaction Data"
   ]
  },
  {
   "cell_type": "markdown",
   "metadata": {},
   "source": [
    "First, if this data was previously compiled, we load the existing data."
   ]
  },
  {
   "cell_type": "code",
   "execution_count": 2,
   "metadata": {},
   "outputs": [
    {
     "name": "stdout",
     "output_type": "stream",
     "text": [
      "<class 'pandas.core.frame.DataFrame'>\n",
      "RangeIndex: 226423 entries, 0 to 226422\n",
      "Data columns (total 7 columns):\n",
      " #   Column     Non-Null Count   Dtype \n",
      "---  ------     --------------   ----- \n",
      " 0   fromState  226423 non-null  bool  \n",
      " 1   pool       226423 non-null  object\n",
      " 2   reserve    226423 non-null  object\n",
      " 3   timestamp  226423 non-null  int64 \n",
      " 4   toState    226423 non-null  bool  \n",
      " 5   user       226423 non-null  object\n",
      " 6   type       226423 non-null  object\n",
      "dtypes: bool(2), int64(1), object(4)\n",
      "memory usage: 9.1+ MB\n"
     ]
    }
   ],
   "source": [
    "start_time = 0\n",
    "try:\n",
    "    old_data = pd.read_csv('collaterals.csv')\n",
    "    exists = True\n",
    "    start_time = old_data['timestamp'].max()\n",
    "    old_data.info()\n",
    "except:\n",
    "    old_data=pd.DataFrame()\n",
    "    exists = False"
   ]
  },
  {
   "cell_type": "markdown",
   "metadata": {},
   "source": [
    "Here, we write a query to fetch transaction information from the API."
   ]
  },
  {
   "cell_type": "code",
   "execution_count": 3,
   "metadata": {},
   "outputs": [
    {
     "name": "stdout",
     "output_type": "stream",
     "text": [
      "<class 'pandas.core.frame.DataFrame'>\n",
      "RangeIndex: 6777 entries, 0 to 6776\n",
      "Data columns (total 8 columns):\n",
      " #   Column     Non-Null Count  Dtype \n",
      "---  ------     --------------  ----- \n",
      " 0   id         6777 non-null   object\n",
      " 1   user       6777 non-null   object\n",
      " 2   pool       6777 non-null   object\n",
      " 3   reserve    6777 non-null   object\n",
      " 4   fromState  6777 non-null   bool  \n",
      " 5   toState    6777 non-null   bool  \n",
      " 6   timestamp  6777 non-null   int64 \n",
      " 7   type       6777 non-null   object\n",
      "dtypes: bool(2), int64(1), object(5)\n",
      "memory usage: 331.0+ KB\n"
     ]
    }
   ],
   "source": [
    "lastId='\"\"'\n",
    "collateral_data=[]\n",
    "#loop until no more data left\n",
    "while(1):\n",
    "    try:\n",
    "        #set query\n",
    "        query=\"\"\"\n",
    "        {\n",
    "            usageAsCollaterals (first: 1000 orderBy: id where:{id_gt:\"\"\"+lastId+\"\"\", timestamp_gt:\"\"\"+str(start_time)+\"\"\"}) {\n",
    "            id\n",
    "            user{\n",
    "                id\n",
    "            },\n",
    "            pool{\n",
    "                id\n",
    "            },\n",
    "            reserve {\n",
    "              id,\n",
    "              symbol\n",
    "            },\n",
    "            fromState,\n",
    "            toState,\n",
    "            timestamp\n",
    "            }\n",
    "        }\n",
    "        \"\"\"\n",
    "        #make request\n",
    "        url = 'https://api.thegraph.com/subgraphs/name/aave/protocol-v2'\n",
    "        request = requests.post(url,json={'query':query})\n",
    "        #store data\n",
    "        collateral_data.extend(request.json()['data']['usageAsCollaterals'])\n",
    "        lastId = \"\\\"\"+request.json()['data']['usageAsCollaterals'][-1]['id']+\"\\\"\"\n",
    "    except:\n",
    "        #exit when no more data left to get\n",
    "        break\n",
    "\n",
    "#create borrows data frame\n",
    "df_collaterals = pd.DataFrame(collateral_data)\n",
    "df_collaterals['type']='collateral'\n",
    "df_collaterals.info()"
   ]
  },
  {
   "cell_type": "markdown",
   "metadata": {},
   "source": [
    "### Re-Format Collateral Change Transaction Data"
   ]
  },
  {
   "cell_type": "markdown",
   "metadata": {},
   "source": [
    "Some of the values in the dataset are dictionaries, so we must re-format the data to get the wanted field from those dictionaries."
   ]
  },
  {
   "cell_type": "code",
   "execution_count": 4,
   "metadata": {},
   "outputs": [],
   "source": [
    "#get id's:\n",
    "def getUser(row):\n",
    "    return row['user']['id']\n",
    "df_collaterals['user']=df_collaterals.apply(lambda x: getUser(x), axis=1)\n",
    "\n",
    "def getPool(row):\n",
    "    return row['pool']['id']\n",
    "df_collaterals['pool']=df_collaterals.apply(lambda x: getPool(x), axis=1)\n",
    "\n",
    "#get symbols\n",
    "def getReserve(row):\n",
    "    if not isinstance(row['reserve'],float):\n",
    "        return row['reserve']['symbol']\n",
    "    else:\n",
    "        return np.nan\n",
    "df_collaterals['reserve']=df_collaterals.apply(lambda x: getReserve(x), axis=1)"
   ]
  },
  {
   "cell_type": "code",
   "execution_count": 5,
   "metadata": {},
   "outputs": [],
   "source": [
    "#reset index\n",
    "df_collaterals = df_collaterals.set_index('id')        "
   ]
  },
  {
   "cell_type": "markdown",
   "metadata": {},
   "source": [
    "### Save Final Data Frame"
   ]
  },
  {
   "cell_type": "markdown",
   "metadata": {},
   "source": [
    "Finally, we save the dataframe to a csv file."
   ]
  },
  {
   "cell_type": "code",
   "execution_count": 6,
   "metadata": {},
   "outputs": [
    {
     "name": "stdout",
     "output_type": "stream",
     "text": [
      "<class 'pandas.core.frame.DataFrame'>\n",
      "Index: 233200 entries, 0 to 0xfffb7da62057ec772005d89fae8aa5fc6455dd4e0abc7fa075a74005b72f5d51:6\n",
      "Data columns (total 7 columns):\n",
      " #   Column     Non-Null Count   Dtype \n",
      "---  ------     --------------   ----- \n",
      " 0   fromState  233200 non-null  bool  \n",
      " 1   pool       233200 non-null  object\n",
      " 2   reserve    233200 non-null  object\n",
      " 3   timestamp  233200 non-null  int64 \n",
      " 4   toState    233200 non-null  bool  \n",
      " 5   user       233200 non-null  object\n",
      " 6   type       233200 non-null  object\n",
      "dtypes: bool(2), int64(1), object(4)\n",
      "memory usage: 11.1+ MB\n"
     ]
    }
   ],
   "source": [
    "df_collaterals = old_data.append(df_collaterals)\n",
    "df_collaterals.info()"
   ]
  },
  {
   "cell_type": "code",
   "execution_count": 7,
   "metadata": {},
   "outputs": [],
   "source": [
    "df_collaterals.to_csv(\"collaterals.csv\",index=False)"
   ]
  }
 ],
 "metadata": {
  "kernelspec": {
   "display_name": "Python 3",
   "language": "python",
   "name": "python3"
  },
  "language_info": {
   "codemirror_mode": {
    "name": "ipython",
    "version": 3
   },
   "file_extension": ".py",
   "mimetype": "text/x-python",
   "name": "python",
   "nbconvert_exporter": "python",
   "pygments_lexer": "ipython3",
   "version": "3.7.3"
  },
  "toc": {
   "base_numbering": 1,
   "nav_menu": {},
   "number_sections": true,
   "sideBar": true,
   "skip_h1_title": false,
   "title_cell": "Table of Contents",
   "title_sidebar": "Contents",
   "toc_cell": false,
   "toc_position": {},
   "toc_section_display": true,
   "toc_window_display": false
  }
 },
 "nbformat": 4,
 "nbformat_minor": 2
}
