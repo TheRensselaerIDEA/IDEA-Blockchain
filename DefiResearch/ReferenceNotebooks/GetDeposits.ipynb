{
 "cells": [
  {
   "cell_type": "markdown",
   "metadata": {},
   "source": [
    "# Get Deposits"
   ]
  },
  {
   "cell_type": "markdown",
   "metadata": {},
   "source": [
    "In this notebook, we compile the data for borrow transactions from the API."
   ]
  },
  {
   "cell_type": "code",
   "execution_count": 1,
   "metadata": {},
   "outputs": [],
   "source": [
    "import requests\n",
    "import json\n",
    "import pandas as pd\n",
    "import seaborn as sns\n",
    "import cryptocompare\n",
    "import matplotlib.pyplot as plt\n",
    "from sklearn.cluster import KMeans\n",
    "from datetime import datetime\n",
    "import numpy as np\n",
    "from sklearn.decomposition import PCA\n",
    "from sklearn.preprocessing import StandardScaler\n",
    "import missingno as msno\n",
    "from IPython.display import HTML\n",
    "import matplotlib.dates as md\n",
    "import math\n",
    "import time"
   ]
  },
  {
   "cell_type": "markdown",
   "metadata": {},
   "source": [
    "### Fetch Deposit Transaction Data"
   ]
  },
  {
   "cell_type": "markdown",
   "metadata": {},
   "source": [
    "Here, we write a query to fetch transaction information from the API."
   ]
  },
  {
   "cell_type": "code",
   "execution_count": 2,
   "metadata": {},
   "outputs": [
    {
     "name": "stdout",
     "output_type": "stream",
     "text": [
      "<class 'pandas.core.frame.DataFrame'>\n",
      "RangeIndex: 192006 entries, 0 to 192005\n",
      "Data columns (total 8 columns):\n",
      " #   Column      Non-Null Count   Dtype \n",
      "---  ------      --------------   ----- \n",
      " 0   amount      192006 non-null  object\n",
      " 1   id          192006 non-null  object\n",
      " 2   onBehalfOf  192006 non-null  object\n",
      " 3   pool        192006 non-null  object\n",
      " 4   reserve     192006 non-null  object\n",
      " 5   timestamp   192006 non-null  int64 \n",
      " 6   user        192006 non-null  object\n",
      " 7   type        192006 non-null  object\n",
      "dtypes: int64(1), object(7)\n",
      "memory usage: 11.7+ MB\n"
     ]
    }
   ],
   "source": [
    "lastId='\"\"'\n",
    "deposit_data=[]\n",
    "while(1):\n",
    "    try:\n",
    "        #set query\n",
    "        query=\"\"\"\n",
    "        {\n",
    "          deposits(first: 1000 orderBy: id where:{id_gt:\"\"\"+lastId+\"\"\"}) {\n",
    "            id\n",
    "            pool{\n",
    "                id\n",
    "            }\n",
    "            user{\n",
    "                id\n",
    "            }\n",
    "            onBehalfOf{\n",
    "                id\n",
    "            }\n",
    "            reserve{\n",
    "                symbol\n",
    "            }\n",
    "            amount\n",
    "            timestamp\n",
    "          }\n",
    "        }\n",
    "        \"\"\"\n",
    "        #make request\n",
    "        url = 'https://api.thegraph.com/subgraphs/name/aave/protocol-v2'\n",
    "        request = requests.post(url,json={'query':query})\n",
    "        #store data\n",
    "        deposit_data.extend(request.json()['data']['deposits'])\n",
    "        lastId = \"\\\"\"+request.json()['data']['deposits'][-1]['id']+\"\\\"\"\n",
    "    except:\n",
    "        #exit when no more data left to get\n",
    "        break\n",
    "\n",
    "#create borrows data frame\n",
    "df_deposits = pd.DataFrame(deposit_data)\n",
    "df_deposits['type']='deposit'\n",
    "df_deposits.info()"
   ]
  },
  {
   "cell_type": "markdown",
   "metadata": {},
   "source": [
    "### Re-Format Deposit Transaction Data"
   ]
  },
  {
   "cell_type": "markdown",
   "metadata": {},
   "source": [
    "Some of the values in the dataset are dictionaries, so we must re-format the data to get the wanted field from those dictionaries."
   ]
  },
  {
   "cell_type": "code",
   "execution_count": 3,
   "metadata": {},
   "outputs": [],
   "source": [
    "#get id's\n",
    "def getUser(row):\n",
    "    return row['user']['id']\n",
    "df_deposits['user']=df_deposits.apply(lambda x: getUser(x), axis=1)\n",
    "\n",
    "def getOnBehalfOf(row):\n",
    "    if not isinstance(row['onBehalfOf'],float):\n",
    "        return row['onBehalfOf']['id']\n",
    "    else:\n",
    "        return np.nan\n",
    "df_deposits['onBehalfOf']=df_deposits.apply(lambda x: getOnBehalfOf(x), axis=1)\n",
    "\n",
    "def getPool(row):\n",
    "    return row['pool']['id']\n",
    "df_deposits['pool']=df_deposits.apply(lambda x: getPool(x), axis=1)\n",
    "\n",
    "#get symbols\n",
    "def getReserve(row):\n",
    "    if not isinstance(row['reserve'],float):\n",
    "        return row['reserve']['symbol']\n",
    "    else:\n",
    "        return np.nan\n",
    "df_deposits['reserve']=df_deposits.apply(lambda x: getReserve(x), axis=1)"
   ]
  },
  {
   "cell_type": "markdown",
   "metadata": {},
   "source": [
    "### Fetch Price Data"
   ]
  },
  {
   "cell_type": "markdown",
   "metadata": {},
   "source": [
    "The API does not list the price of the asset for each transaction, so we must gather this information in another way. We can search for the most recent price of the desired asset before the transaction occurred. Prices are reported in Ether, not USD. Because of this, we also get the price of Tether at the time of the transaction. Tether is a stable coin, so its price should always be close to one dollar. We will divide the asset price by the price of Tether to determine the price of the asset in USD. "
   ]
  },
  {
   "cell_type": "code",
   "execution_count": 4,
   "metadata": {},
   "outputs": [
    {
     "name": "stdout",
     "output_type": "stream",
     "text": [
      "getting deposit prices...\n",
      "5000\n",
      "10000\n",
      "15000\n",
      "20000\n",
      "25000\n",
      "30000\n",
      "35000\n",
      "40000\n",
      "45000\n",
      "50000\n",
      "55000\n",
      "60000\n",
      "65000\n",
      "70000\n",
      "75000\n",
      "80000\n",
      "85000\n",
      "90000\n",
      "95000\n",
      "100000\n",
      "105000\n",
      "110000\n",
      "115000\n",
      "120000\n",
      "125000\n",
      "130000\n",
      "135000\n",
      "140000\n",
      "145000\n",
      "150000\n",
      "155000\n",
      "160000\n",
      "165000\n",
      "170000\n",
      "175000\n",
      "180000\n",
      "185000\n",
      "190000\n"
     ]
    }
   ],
   "source": [
    "pricesSym=[]\n",
    "pricesUSDT=[]\n",
    "i=0\n",
    "#get prices for each asset at time of transaction, and price for USDT at time of transaction\n",
    "def getPrice(row, sym):\n",
    "    global i\n",
    "    \n",
    "    #get symbol and time\n",
    "    symbol = row[sym]\n",
    "    timestamp = row['timestamp']\n",
    "    \n",
    "    #get query\n",
    "    query=\"\"\"\n",
    "    {\n",
    "    reserves(where: { symbol_in:[\"USDT\",\\\"\"\"\"+symbol+\"\"\"\\\"] }){\n",
    "        symbol,\n",
    "        price{\n",
    "            priceInEth,\n",
    "            priceHistory(where:{timestamp_lte: \"\"\"+str(timestamp)+\"\"\"} orderBy: timestamp orderDirection: desc first:1){\n",
    "                price,\n",
    "                timestamp\n",
    "              }\n",
    "            }\n",
    "          }\n",
    "        }    \n",
    "    \"\"\"\n",
    "    #keep trying request until it is successful\n",
    "    while(True):\n",
    "        try:\n",
    "            #get json\n",
    "            url = 'https://api.thegraph.com/subgraphs/name/aave/protocol-v2'\n",
    "            request = requests.post(url,json={'query':query})\n",
    "            req_json = request.json()\n",
    "            break\n",
    "        except:\n",
    "            #if request unsuccessful, try again in 10 seconds\n",
    "            print('stalling')\n",
    "            time.sleep(10)\n",
    " \n",
    "    try:\n",
    "        #if only data for 1 asset...\n",
    "        if len(req_json['data']['reserves'])<2:\n",
    "            #if USDT, add data\n",
    "            if symbol==\"USDT\":\n",
    "                pricesSym.append(req_json['data']['reserves'][0]['price']['priceHistory'][0]['price'])\n",
    "                pricesUSDT.append(req_json['data']['reserves'][0]['price']['priceHistory'][0]['price'])\n",
    "            #otherwise, symbol not found\n",
    "            else:\n",
    "                pricesSym.append(np.nan)\n",
    "                pricesUSDT.append(np.nan)\n",
    "        #if both present...\n",
    "        else:\n",
    "            #ensure price data exists for asset\n",
    "            phistory = req_json['data']['reserves'][0]['price']['priceHistory']\n",
    "            #if data not available, set as null\n",
    "            if len(phistory)==0:\n",
    "                if symbol=='WETH' or symbol=='AmmWETH':\n",
    "                    pricesSym.append(1)\n",
    "                    pricesUSDT.append(req_json['data']['reserves'][1]['price']['priceHistory'][0]['price'])\n",
    "                else:\n",
    "                    pricesSym.append(np.nan)\n",
    "                    pricesUSDT.append(req_json['data']['reserves'][1]['price']['priceHistory'][0]['price'])\n",
    "            #otherwise add data\n",
    "            else:\n",
    "                pricesSym.append(phistory[0]['price'])\n",
    "                pricesUSDT.append(req_json['data']['reserves'][1]['price']['priceHistory'][0]['price'])\n",
    "    except:\n",
    "        print('ERROR')\n",
    "        print(req_json)\n",
    "        return\n",
    "    \n",
    "    #update progress\n",
    "    i+=1\n",
    "    if i%5000==0:\n",
    "        print(i)\n",
    "\n",
    "#get borrow prices\n",
    "print('getting deposit prices...')\n",
    "df_deposits.apply(lambda x: getPrice(x,'reserve'),axis=1)\n",
    "\n",
    "df_deposits['priceSym']=pricesSym\n",
    "df_deposits['priceUSDT']=pricesUSDT"
   ]
  },
  {
   "cell_type": "markdown",
   "metadata": {},
   "source": [
    "### Get Decimal Data"
   ]
  },
  {
   "cell_type": "markdown",
   "metadata": {},
   "source": [
    "The amount value is reported in units of the lowest denomination for each currency. To standardize these values, we must know the number of decimals each currency is reported in. The following query creates a dictionary holding the number of decimals for each currency."
   ]
  },
  {
   "cell_type": "code",
   "execution_count": 5,
   "metadata": {},
   "outputs": [
    {
     "data": {
      "text/plain": [
       "{'TUSD': 18,\n",
       " 'AmmUniWBTCUSDC': 18,\n",
       " 'RAI': 18,\n",
       " 'GUSD': 2,\n",
       " 'YFI': 18,\n",
       " 'BAT': 18,\n",
       " 'MANA': 18,\n",
       " 'AmmBptWBTCWETH': 18,\n",
       " 'UNI': 18,\n",
       " 'AmmWBTC': 8,\n",
       " 'WBTC': 8,\n",
       " 'AmmUniYFIWETH': 18,\n",
       " 'AmmUniCRVWETH': 18,\n",
       " 'REN': 18,\n",
       " 'AmmUniSNXWETH': 18,\n",
       " 'BUSD': 18,\n",
       " 'LINK': 18,\n",
       " 'SUSD': 18,\n",
       " 'AmmBptBALWETH': 18,\n",
       " 'AmmDAI': 18,\n",
       " 'DAI': 18,\n",
       " 'AAVE': 18,\n",
       " 'XSUSHI': 18,\n",
       " 'AmmUniRENWETH': 18,\n",
       " 'PAX': 18,\n",
       " 'MKR': 18,\n",
       " 'AmmUSDC': 6,\n",
       " 'USDC': 6,\n",
       " 'AmmUniLINKWETH': 18,\n",
       " 'AmmUniDAIWETH': 18,\n",
       " 'AmmUniDAIUSDC': 18,\n",
       " 'AmmUniUSDCWETH': 18,\n",
       " 'AmmUniBATWETH': 18,\n",
       " 'BAL': 18,\n",
       " 'AmmUniWBTCWETH': 18,\n",
       " 'SNX': 18,\n",
       " 'AmmWETH': 18,\n",
       " 'WETH': 18,\n",
       " 'AmmUniMKRWETH': 18,\n",
       " 'AmmUniUNIWETH': 18,\n",
       " 'AMPL': 9,\n",
       " 'RENFIL': 18,\n",
       " 'CRV': 18,\n",
       " 'AmmUSDT': 6,\n",
       " 'USDT': 6,\n",
       " 'KNC': 18,\n",
       " 'AmmUniAAVEWETH': 18,\n",
       " 'ZRX': 18,\n",
       " 'ENJ': 18}"
      ]
     },
     "execution_count": 5,
     "metadata": {},
     "output_type": "execute_result"
    }
   ],
   "source": [
    "#set query\n",
    "query=\"\"\"\n",
    "        {\n",
    "  reserves(first:1000){\n",
    "    symbol\n",
    "    decimals\n",
    "  }\n",
    "}\n",
    "        \"\"\"\n",
    "#make request\n",
    "url = 'https://api.thegraph.com/subgraphs/name/aave/protocol-v2'\n",
    "request = requests.post(url,json={'query':query})\n",
    "jsondata=request.json()['data']['reserves']\n",
    "\n",
    "#create dictionary of the number of decimals in each asset\n",
    "decimals=dict()\n",
    "for data in jsondata:\n",
    "    decimals[data['symbol']]=int(data['decimals'])\n",
    "    \n",
    "decimals"
   ]
  },
  {
   "cell_type": "markdown",
   "metadata": {},
   "source": [
    "### Adjust Amount"
   ]
  },
  {
   "cell_type": "markdown",
   "metadata": {},
   "source": [
    "Next, we convert the amount column to type float. Then, with the information we gathered above, we write a function to adjust the transaction amounts. "
   ]
  },
  {
   "cell_type": "code",
   "execution_count": 6,
   "metadata": {},
   "outputs": [],
   "source": [
    "#transform amount column to float\n",
    "df_deposits['amount']=df_deposits['amount'].astype(float)"
   ]
  },
  {
   "cell_type": "code",
   "execution_count": 7,
   "metadata": {},
   "outputs": [
    {
     "data": {
      "text/plain": [
       "count    1.920060e+05\n",
       "mean     1.615326e+05\n",
       "std      3.082114e+06\n",
       "min      1.000000e-18\n",
       "25%      6.518791e+00\n",
       "50%      1.780000e+02\n",
       "75%      7.190732e+03\n",
       "max      6.000000e+08\n",
       "Name: amount, dtype: float64"
      ]
     },
     "execution_count": 7,
     "metadata": {},
     "output_type": "execute_result"
    }
   ],
   "source": [
    "#function to divide each amount based on the reserve\n",
    "def adjustAmount(row):\n",
    "    decs = decimals[row['reserve']]\n",
    "    return row['amount']/(10**decs)\n",
    "\n",
    "#adjust amounts\n",
    "df_deposits['amount']=df_deposits.apply(lambda x: adjustAmount(x),axis=1)\n",
    "df_deposits['amount'].describe()"
   ]
  },
  {
   "cell_type": "markdown",
   "metadata": {},
   "source": [
    "### Re-Format Price Data"
   ]
  },
  {
   "cell_type": "markdown",
   "metadata": {},
   "source": [
    "We format the raw price data so that the prices are reported in USD. We will also determine the total amount of the transaction in USD."
   ]
  },
  {
   "cell_type": "code",
   "execution_count": 8,
   "metadata": {},
   "outputs": [],
   "source": [
    "#get the prices in ethereum and in USD\n",
    "df_deposits['reservePriceETH'] = df_deposits['priceSym'].astype(float)\n",
    "df_deposits['reservePriceUSD'] = df_deposits['reservePriceETH']*(1/(df_deposits['priceUSDT'].astype(float)))\n",
    "\n",
    "#get amount in USD\n",
    "df_deposits['amountUSD']=df_deposits['amount'].astype(float)*df_deposits['reservePriceUSD']                                     \n",
    "\n",
    "#drop redundent columns\n",
    "df_deposits.drop(columns=['priceSym','priceUSDT'],inplace=True)\n",
    "                                               \n",
    "#reset index\n",
    "df_deposits = df_deposits.set_index('id')           "
   ]
  },
  {
   "cell_type": "markdown",
   "metadata": {},
   "source": [
    "### Save Final Data Frame"
   ]
  },
  {
   "cell_type": "markdown",
   "metadata": {},
   "source": [
    "Finally, we save the dataframe to a csv file."
   ]
  },
  {
   "cell_type": "code",
   "execution_count": 9,
   "metadata": {},
   "outputs": [],
   "source": [
    "df_deposits.to_csv(\"deposits.csv\",index=False)"
   ]
  },
  {
   "cell_type": "code",
   "execution_count": null,
   "metadata": {},
   "outputs": [],
   "source": []
  }
 ],
 "metadata": {
  "kernelspec": {
   "display_name": "Python [conda env:blockchain]",
   "language": "python",
   "name": "conda-env-blockchain-py"
  },
  "language_info": {
   "codemirror_mode": {
    "name": "ipython",
    "version": 3
   },
   "file_extension": ".py",
   "mimetype": "text/x-python",
   "name": "python",
   "nbconvert_exporter": "python",
   "pygments_lexer": "ipython3",
   "version": "3.8.10"
  }
 },
 "nbformat": 4,
 "nbformat_minor": 2
}
