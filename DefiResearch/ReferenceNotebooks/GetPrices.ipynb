{
 "cells": [
  {
   "cell_type": "markdown",
   "metadata": {},
   "source": [
    "# Get Prices"
   ]
  },
  {
   "cell_type": "markdown",
   "metadata": {},
   "source": [
    "In this notebook, we compile a list of historic reserve prices for the different tokens in Aave."
   ]
  },
  {
   "cell_type": "code",
   "execution_count": 1,
   "metadata": {},
   "outputs": [
    {
     "name": "stderr",
     "output_type": "stream",
     "text": [
      "In C:\\Users\\CCCam\\Miniconda3\\lib\\site-packages\\matplotlib\\mpl-data\\stylelib\\_classic_test.mplstyle: \n",
      "The text.latex.preview rcparam was deprecated in Matplotlib 3.3 and will be removed two minor releases later.\n",
      "In C:\\Users\\CCCam\\Miniconda3\\lib\\site-packages\\matplotlib\\mpl-data\\stylelib\\_classic_test.mplstyle: \n",
      "The mathtext.fallback_to_cm rcparam was deprecated in Matplotlib 3.3 and will be removed two minor releases later.\n",
      "In C:\\Users\\CCCam\\Miniconda3\\lib\\site-packages\\matplotlib\\mpl-data\\stylelib\\_classic_test.mplstyle: Support for setting the 'mathtext.fallback_to_cm' rcParam is deprecated since 3.3 and will be removed two minor releases later; use 'mathtext.fallback : 'cm' instead.\n",
      "In C:\\Users\\CCCam\\Miniconda3\\lib\\site-packages\\matplotlib\\mpl-data\\stylelib\\_classic_test.mplstyle: \n",
      "The validate_bool_maybe_none function was deprecated in Matplotlib 3.3 and will be removed two minor releases later.\n",
      "In C:\\Users\\CCCam\\Miniconda3\\lib\\site-packages\\matplotlib\\mpl-data\\stylelib\\_classic_test.mplstyle: \n",
      "The savefig.jpeg_quality rcparam was deprecated in Matplotlib 3.3 and will be removed two minor releases later.\n",
      "In C:\\Users\\CCCam\\Miniconda3\\lib\\site-packages\\matplotlib\\mpl-data\\stylelib\\_classic_test.mplstyle: \n",
      "The keymap.all_axes rcparam was deprecated in Matplotlib 3.3 and will be removed two minor releases later.\n",
      "In C:\\Users\\CCCam\\Miniconda3\\lib\\site-packages\\matplotlib\\mpl-data\\stylelib\\_classic_test.mplstyle: \n",
      "The animation.avconv_path rcparam was deprecated in Matplotlib 3.3 and will be removed two minor releases later.\n",
      "In C:\\Users\\CCCam\\Miniconda3\\lib\\site-packages\\matplotlib\\mpl-data\\stylelib\\_classic_test.mplstyle: \n",
      "The animation.avconv_args rcparam was deprecated in Matplotlib 3.3 and will be removed two minor releases later.\n"
     ]
    }
   ],
   "source": [
    "#import packages\n",
    "import requests\n",
    "import json\n",
    "import pandas as pd\n",
    "import seaborn as sns\n",
    "import matplotlib.pyplot as plt\n",
    "from datetime import datetime\n",
    "import numpy as np\n",
    "import matplotlib.dates as md\n",
    "import math\n",
    "import time"
   ]
  },
  {
   "cell_type": "markdown",
   "metadata": {},
   "source": [
    "We begin by loading in a list of the reserves available in Aave."
   ]
  },
  {
   "cell_type": "code",
   "execution_count": 2,
   "metadata": {},
   "outputs": [
    {
     "data": {
      "text/plain": [
       "['TUSD',\n",
       " 'AmmUniWBTCUSDC',\n",
       " 'RAI',\n",
       " 'GUSD',\n",
       " 'YFI',\n",
       " 'BAT',\n",
       " 'MANA',\n",
       " 'DPI',\n",
       " 'AmmBptWBTCWETH',\n",
       " 'UNI',\n",
       " 'AmmWBTC',\n",
       " 'WBTC',\n",
       " 'AmmUniYFIWETH',\n",
       " 'AmmUniCRVWETH',\n",
       " 'REN',\n",
       " 'AmmUniSNXWETH',\n",
       " 'BUSD',\n",
       " 'AmmGUniDAIUSDC',\n",
       " 'LINK',\n",
       " 'SUSD',\n",
       " 'AmmBptBALWETH',\n",
       " 'AmmDAI',\n",
       " 'DAI',\n",
       " 'AAVE',\n",
       " 'FRAX',\n",
       " 'XSUSHI',\n",
       " 'AmmUniRENWETH',\n",
       " 'PAX',\n",
       " 'FEI',\n",
       " 'MKR',\n",
       " 'AmmUSDC',\n",
       " 'USDC',\n",
       " 'AmmUniLINKWETH',\n",
       " 'AmmUniDAIWETH',\n",
       " 'AmmUniDAIUSDC',\n",
       " 'AmmUniUSDCWETH',\n",
       " 'AmmUniBATWETH',\n",
       " 'BAL',\n",
       " 'AmmUniWBTCWETH',\n",
       " 'SNX',\n",
       " 'AmmWETH',\n",
       " 'WETH',\n",
       " 'AmmUniMKRWETH',\n",
       " 'AmmGUniUSDCUSDT',\n",
       " 'AmmUniUNIWETH',\n",
       " 'AMPL',\n",
       " 'RENFIL',\n",
       " 'CRV',\n",
       " 'AmmUSDT',\n",
       " 'USDT',\n",
       " 'KNC',\n",
       " 'AmmUniAAVEWETH',\n",
       " 'ZRX',\n",
       " 'ENJ']"
      ]
     },
     "execution_count": 2,
     "metadata": {},
     "output_type": "execute_result"
    }
   ],
   "source": [
    "#get list of unique reserves\n",
    "df_reserves = pd.read_csv('tokens.csv')\n",
    "reserves = list(df_reserves['symbol'].unique())\n",
    "reserves"
   ]
  },
  {
   "cell_type": "markdown",
   "metadata": {},
   "source": [
    "If this data was previously compiled, we load the existing data."
   ]
  },
  {
   "cell_type": "code",
   "execution_count": 3,
   "metadata": {},
   "outputs": [
    {
     "name": "stdout",
     "output_type": "stream",
     "text": [
      "<class 'pandas.core.frame.DataFrame'>\n",
      "RangeIndex: 497589 entries, 0 to 497588\n",
      "Data columns (total 6 columns):\n",
      " #   Column     Non-Null Count   Dtype  \n",
      "---  ------     --------------   -----  \n",
      " 0   price      497589 non-null  object \n",
      " 1   timestamp  497589 non-null  int64  \n",
      " 2   symbol     497589 non-null  object \n",
      " 3   priceETH   497589 non-null  float64\n",
      " 4   datetime   497589 non-null  object \n",
      " 5   priceUSD   497589 non-null  float64\n",
      "dtypes: float64(2), int64(1), object(3)\n",
      "memory usage: 22.8+ MB\n"
     ]
    },
    {
     "name": "stderr",
     "output_type": "stream",
     "text": [
      "C:\\Users\\CCCam\\Miniconda3\\lib\\site-packages\\IPython\\core\\interactiveshell.py:3326: DtypeWarning: Columns (0) have mixed types.Specify dtype option on import or set low_memory=False.\n",
      "  exec(code_obj, self.user_global_ns, self.user_ns)\n"
     ]
    }
   ],
   "source": [
    "start_time = 0\n",
    "try:\n",
    "    old_data = pd.read_csv('prices.csv')\n",
    "    exists = True\n",
    "    start_time = old_data['timestamp'].max()\n",
    "    old_data.info()\n",
    "except:\n",
    "    old_data = pd.DataFrame()\n",
    "    exists = False"
   ]
  },
  {
   "cell_type": "markdown",
   "metadata": {},
   "source": [
    "Next, we write a query to gather price data for each reserve from the API."
   ]
  },
  {
   "cell_type": "code",
   "execution_count": 4,
   "metadata": {
    "scrolled": true
   },
   "outputs": [
    {
     "name": "stdout",
     "output_type": "stream",
     "text": [
      "1/52\n",
      "2/52\n",
      "3/52\n",
      "4/52\n",
      "5/52\n",
      "6/52\n",
      "7/52\n",
      "8/52\n",
      "9/52\n",
      "10/52\n",
      "11/52\n",
      "12/52\n",
      "13/52\n",
      "14/52\n",
      "15/52\n",
      "16/52\n",
      "17/52\n",
      "18/52\n",
      "19/52\n",
      "20/52\n",
      "21/52\n",
      "22/52\n",
      "23/52\n",
      "24/52\n",
      "25/52\n",
      "26/52\n",
      "27/52\n",
      "28/52\n",
      "29/52\n",
      "30/52\n",
      "31/52\n",
      "32/52\n",
      "<class 'pandas.core.frame.DataFrame'>\n",
      "Int64Index: 6439 entries, 0 to 110\n",
      "Data columns (total 4 columns):\n",
      " #   Column     Non-Null Count  Dtype  \n",
      "---  ------     --------------  -----  \n",
      " 0   price      6439 non-null   object \n",
      " 1   timestamp  6439 non-null   int64  \n",
      " 2   symbol     6439 non-null   object \n",
      " 3   priceETH   6439 non-null   float64\n",
      "dtypes: float64(1), int64(1), object(2)\n",
      "memory usage: 251.5+ KB\n"
     ]
    }
   ],
   "source": [
    "i=1\n",
    "all_data= pd.DataFrame()\n",
    "\n",
    "#get price data for each reserve\n",
    "for reserve in reserves:\n",
    "    asset = '\"'+reserve+'\"'\n",
    "    lastTime=start_time\n",
    "    price_data=[]\n",
    "    #loop until no data left\n",
    "    while(1):\n",
    "        try:\n",
    "            #set query\n",
    "            query=\"\"\"\n",
    "                {\n",
    "              reserves(where:{symbol: \"\"\"+asset+\"\"\"}){\n",
    "                symbol\n",
    "                price{\n",
    "                  priceHistory(first: 1000 orderBy: timestamp where:{timestamp_gt:\"\"\"+str(lastTime)+\"\"\" }){\n",
    "                    price\n",
    "                    timestamp\n",
    "                  }\n",
    "                }\n",
    "              }\n",
    "            }    \n",
    "                \"\"\"\n",
    "            #make request\n",
    "            url = 'https://api.thegraph.com/subgraphs/name/aave/protocol-v2'\n",
    "            request = requests.post(url,json={'query':query})\n",
    "            #store data\n",
    "            price_data.extend(request.json()['data']['reserves'][0]['price']['priceHistory'])\n",
    "            lastTime = str(request.json()['data']['reserves'][0]['price']['priceHistory'][-1]['timestamp'])\n",
    "        except Exception as e:\n",
    "            #exit when no more data left to get\n",
    "            break\n",
    "    #skip reserves with no price data\n",
    "    if len(price_data)==0:\n",
    "        continue\n",
    "    df_token_prices = pd.DataFrame(price_data)\n",
    "    df_token_prices['symbol']=reserve\n",
    "    df_token_prices['priceETH']=df_token_prices['price'].astype(float)/(1e18)\n",
    "    all_data = all_data.append(df_token_prices)\n",
    "    print(str(i)+'/'+str(len(reserves)-2))\n",
    "    i+=1\n",
    "all_data.info()"
   ]
  },
  {
   "cell_type": "markdown",
   "metadata": {},
   "source": [
    "We calculate the price in USD for each row."
   ]
  },
  {
   "cell_type": "code",
   "execution_count": 5,
   "metadata": {},
   "outputs": [
    {
     "name": "stdout",
     "output_type": "stream",
     "text": [
      "<class 'pandas.core.frame.DataFrame'>\n",
      "Int64Index: 504028 entries, 0 to 110\n",
      "Data columns (total 6 columns):\n",
      " #   Column     Non-Null Count   Dtype  \n",
      "---  ------     --------------   -----  \n",
      " 0   price      504028 non-null  object \n",
      " 1   timestamp  504028 non-null  int64  \n",
      " 2   symbol     504028 non-null  object \n",
      " 3   priceETH   504028 non-null  float64\n",
      " 4   datetime   497589 non-null  object \n",
      " 5   priceUSD   497589 non-null  float64\n",
      "dtypes: float64(2), int64(1), object(3)\n",
      "memory usage: 26.9+ MB\n"
     ]
    }
   ],
   "source": [
    "#append new data to old data\n",
    "all_data = old_data.append(all_data)\n",
    "all_data.info()"
   ]
  },
  {
   "cell_type": "code",
   "execution_count": 6,
   "metadata": {},
   "outputs": [],
   "source": [
    "all_data['datetime'] = pd.to_datetime(all_data['timestamp'],unit='s')"
   ]
  },
  {
   "cell_type": "code",
   "execution_count": 7,
   "metadata": {},
   "outputs": [
    {
     "name": "stdout",
     "output_type": "stream",
     "text": [
      "<class 'pandas.core.frame.DataFrame'>\n",
      "Int64Index: 504028 entries, 0 to 110\n",
      "Data columns (total 6 columns):\n",
      " #   Column     Non-Null Count   Dtype         \n",
      "---  ------     --------------   -----         \n",
      " 0   price      504028 non-null  object        \n",
      " 1   timestamp  504028 non-null  int64         \n",
      " 2   symbol     504028 non-null  object        \n",
      " 3   priceETH   504028 non-null  float64       \n",
      " 4   datetime   504028 non-null  datetime64[ns]\n",
      " 5   priceUSD   497589 non-null  float64       \n",
      "dtypes: datetime64[ns](1), float64(2), int64(1), object(2)\n",
      "memory usage: 26.9+ MB\n"
     ]
    }
   ],
   "source": [
    "i=0\n",
    "#get price in USD for each price udate\n",
    "def toUSD(row):\n",
    "    #if old data\n",
    "    try:\n",
    "        return row['priceUSD']\n",
    "    #if new data\n",
    "    except:\n",
    "        global i\n",
    "        USDT = all_data[(all_data['symbol']=='USDT') &(all_data['timestamp']<=row['timestamp'])].sort_values('timestamp')\n",
    "        ETH = list(USDT['priceETH'])[-1]\n",
    "        i+=1\n",
    "        if i%1000==0:\n",
    "            print(i)\n",
    "        return row['priceETH']/ETH\n",
    "\n",
    "all_data['priceUSD'] = all_data.apply(lambda x: toUSD(x),axis=1)\n",
    "all_data.info()"
   ]
  },
  {
   "cell_type": "markdown",
   "metadata": {},
   "source": [
    "Next, we append WETH data."
   ]
  },
  {
   "cell_type": "code",
   "execution_count": 8,
   "metadata": {},
   "outputs": [
    {
     "data": {
      "text/html": [
       "<div>\n",
       "<style scoped>\n",
       "    .dataframe tbody tr th:only-of-type {\n",
       "        vertical-align: middle;\n",
       "    }\n",
       "\n",
       "    .dataframe tbody tr th {\n",
       "        vertical-align: top;\n",
       "    }\n",
       "\n",
       "    .dataframe thead th {\n",
       "        text-align: right;\n",
       "    }\n",
       "</style>\n",
       "<table border=\"1\" class=\"dataframe\">\n",
       "  <thead>\n",
       "    <tr style=\"text-align: right;\">\n",
       "      <th></th>\n",
       "      <th>price</th>\n",
       "      <th>timestamp</th>\n",
       "      <th>symbol</th>\n",
       "      <th>priceETH</th>\n",
       "      <th>datetime</th>\n",
       "      <th>priceUSD</th>\n",
       "    </tr>\n",
       "  </thead>\n",
       "  <tbody>\n",
       "    <tr>\n",
       "      <th>407</th>\n",
       "      <td>345676893562401</td>\n",
       "      <td>1646283073</td>\n",
       "      <td>WETH</td>\n",
       "      <td>1</td>\n",
       "      <td>2022-03-03 04:51:13</td>\n",
       "      <td>2892.874874</td>\n",
       "    </tr>\n",
       "    <tr>\n",
       "      <th>408</th>\n",
       "      <td>342216731893745</td>\n",
       "      <td>1646307086</td>\n",
       "      <td>WETH</td>\n",
       "      <td>1</td>\n",
       "      <td>2022-03-03 11:31:26</td>\n",
       "      <td>2922.124802</td>\n",
       "    </tr>\n",
       "    <tr>\n",
       "      <th>409</th>\n",
       "      <td>346221207942428</td>\n",
       "      <td>1646319284</td>\n",
       "      <td>WETH</td>\n",
       "      <td>1</td>\n",
       "      <td>2022-03-03 14:54:44</td>\n",
       "      <td>2888.326818</td>\n",
       "    </tr>\n",
       "    <tr>\n",
       "      <th>410</th>\n",
       "      <td>349819900000000</td>\n",
       "      <td>1646320852</td>\n",
       "      <td>WETH</td>\n",
       "      <td>1</td>\n",
       "      <td>2022-03-03 15:20:52</td>\n",
       "      <td>2858.613818</td>\n",
       "    </tr>\n",
       "    <tr>\n",
       "      <th>411</th>\n",
       "      <td>353505942021968</td>\n",
       "      <td>1646322442</td>\n",
       "      <td>WETH</td>\n",
       "      <td>1</td>\n",
       "      <td>2022-03-03 15:47:22</td>\n",
       "      <td>2828.806764</td>\n",
       "    </tr>\n",
       "  </tbody>\n",
       "</table>\n",
       "</div>"
      ],
      "text/plain": [
       "               price   timestamp symbol  priceETH            datetime  \\\n",
       "407  345676893562401  1646283073   WETH         1 2022-03-03 04:51:13   \n",
       "408  342216731893745  1646307086   WETH         1 2022-03-03 11:31:26   \n",
       "409  346221207942428  1646319284   WETH         1 2022-03-03 14:54:44   \n",
       "410  349819900000000  1646320852   WETH         1 2022-03-03 15:20:52   \n",
       "411  353505942021968  1646322442   WETH         1 2022-03-03 15:47:22   \n",
       "\n",
       "        priceUSD  \n",
       "407  2892.874874  \n",
       "408  2922.124802  \n",
       "409  2888.326818  \n",
       "410  2858.613818  \n",
       "411  2828.806764  "
      ]
     },
     "execution_count": 8,
     "metadata": {},
     "output_type": "execute_result"
    }
   ],
   "source": [
    "WETH = all_data[all_data['symbol']=='USDT'].copy()\n",
    "WETH['priceUSD'] = 1/WETH['priceETH']\n",
    "WETH['priceETH']=1\n",
    "WETH['symbol']='WETH'\n",
    "WETH.tail()"
   ]
  },
  {
   "cell_type": "code",
   "execution_count": 9,
   "metadata": {},
   "outputs": [
    {
     "data": {
      "text/html": [
       "<div>\n",
       "<style scoped>\n",
       "    .dataframe tbody tr th:only-of-type {\n",
       "        vertical-align: middle;\n",
       "    }\n",
       "\n",
       "    .dataframe tbody tr th {\n",
       "        vertical-align: top;\n",
       "    }\n",
       "\n",
       "    .dataframe thead th {\n",
       "        text-align: right;\n",
       "    }\n",
       "</style>\n",
       "<table border=\"1\" class=\"dataframe\">\n",
       "  <thead>\n",
       "    <tr style=\"text-align: right;\">\n",
       "      <th></th>\n",
       "      <th>price</th>\n",
       "      <th>timestamp</th>\n",
       "      <th>symbol</th>\n",
       "      <th>priceETH</th>\n",
       "      <th>datetime</th>\n",
       "      <th>priceUSD</th>\n",
       "    </tr>\n",
       "  </thead>\n",
       "  <tbody>\n",
       "    <tr>\n",
       "      <th>407</th>\n",
       "      <td>345676893562401</td>\n",
       "      <td>1646283073</td>\n",
       "      <td>WETH</td>\n",
       "      <td>1.0</td>\n",
       "      <td>2022-03-03 04:51:13</td>\n",
       "      <td>2892.874874</td>\n",
       "    </tr>\n",
       "    <tr>\n",
       "      <th>408</th>\n",
       "      <td>342216731893745</td>\n",
       "      <td>1646307086</td>\n",
       "      <td>WETH</td>\n",
       "      <td>1.0</td>\n",
       "      <td>2022-03-03 11:31:26</td>\n",
       "      <td>2922.124802</td>\n",
       "    </tr>\n",
       "    <tr>\n",
       "      <th>409</th>\n",
       "      <td>346221207942428</td>\n",
       "      <td>1646319284</td>\n",
       "      <td>WETH</td>\n",
       "      <td>1.0</td>\n",
       "      <td>2022-03-03 14:54:44</td>\n",
       "      <td>2888.326818</td>\n",
       "    </tr>\n",
       "    <tr>\n",
       "      <th>410</th>\n",
       "      <td>349819900000000</td>\n",
       "      <td>1646320852</td>\n",
       "      <td>WETH</td>\n",
       "      <td>1.0</td>\n",
       "      <td>2022-03-03 15:20:52</td>\n",
       "      <td>2858.613818</td>\n",
       "    </tr>\n",
       "    <tr>\n",
       "      <th>411</th>\n",
       "      <td>353505942021968</td>\n",
       "      <td>1646322442</td>\n",
       "      <td>WETH</td>\n",
       "      <td>1.0</td>\n",
       "      <td>2022-03-03 15:47:22</td>\n",
       "      <td>2828.806764</td>\n",
       "    </tr>\n",
       "  </tbody>\n",
       "</table>\n",
       "</div>"
      ],
      "text/plain": [
       "               price   timestamp symbol  priceETH            datetime  \\\n",
       "407  345676893562401  1646283073   WETH       1.0 2022-03-03 04:51:13   \n",
       "408  342216731893745  1646307086   WETH       1.0 2022-03-03 11:31:26   \n",
       "409  346221207942428  1646319284   WETH       1.0 2022-03-03 14:54:44   \n",
       "410  349819900000000  1646320852   WETH       1.0 2022-03-03 15:20:52   \n",
       "411  353505942021968  1646322442   WETH       1.0 2022-03-03 15:47:22   \n",
       "\n",
       "        priceUSD  \n",
       "407  2892.874874  \n",
       "408  2922.124802  \n",
       "409  2888.326818  \n",
       "410  2858.613818  \n",
       "411  2828.806764  "
      ]
     },
     "execution_count": 9,
     "metadata": {},
     "output_type": "execute_result"
    }
   ],
   "source": [
    "all_data = all_data.append(WETH)\n",
    "all_data.tail()"
   ]
  },
  {
   "cell_type": "markdown",
   "metadata": {},
   "source": [
    "Finally, we save the data to a csv file."
   ]
  },
  {
   "cell_type": "code",
   "execution_count": 10,
   "metadata": {},
   "outputs": [
    {
     "name": "stdout",
     "output_type": "stream",
     "text": [
      "<class 'pandas.core.frame.DataFrame'>\n",
      "Int64Index: 534650 entries, 0 to 411\n",
      "Data columns (total 6 columns):\n",
      " #   Column     Non-Null Count   Dtype         \n",
      "---  ------     --------------   -----         \n",
      " 0   price      534650 non-null  object        \n",
      " 1   timestamp  534650 non-null  int64         \n",
      " 2   symbol     534650 non-null  object        \n",
      " 3   priceETH   534650 non-null  float64       \n",
      " 4   datetime   534650 non-null  datetime64[ns]\n",
      " 5   priceUSD   528211 non-null  float64       \n",
      "dtypes: datetime64[ns](1), float64(2), int64(1), object(2)\n",
      "memory usage: 28.6+ MB\n"
     ]
    }
   ],
   "source": [
    "all_data.to_csv(\"prices.csv\",index=False)\n",
    "all_data.info()"
   ]
  }
 ],
 "metadata": {
  "kernelspec": {
   "display_name": "Python 3",
   "language": "python",
   "name": "python3"
  },
  "language_info": {
   "codemirror_mode": {
    "name": "ipython",
    "version": 3
   },
   "file_extension": ".py",
   "mimetype": "text/x-python",
   "name": "python",
   "nbconvert_exporter": "python",
   "pygments_lexer": "ipython3",
   "version": "3.7.3"
  },
  "toc": {
   "base_numbering": 1,
   "nav_menu": {},
   "number_sections": true,
   "sideBar": true,
   "skip_h1_title": false,
   "title_cell": "Table of Contents",
   "title_sidebar": "Contents",
   "toc_cell": false,
   "toc_position": {},
   "toc_section_display": true,
   "toc_window_display": false
  }
 },
 "nbformat": 4,
 "nbformat_minor": 2
}
