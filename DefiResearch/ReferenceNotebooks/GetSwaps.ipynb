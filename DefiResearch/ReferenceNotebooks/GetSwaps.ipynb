{
 "cells": [
  {
   "cell_type": "markdown",
   "metadata": {},
   "source": [
    "# Get Swaps"
   ]
  },
  {
   "cell_type": "markdown",
   "metadata": {},
   "source": [
    "In this notebook, we compile the data for borrow transactions from the API."
   ]
  },
  {
   "cell_type": "code",
   "execution_count": 1,
   "metadata": {},
   "outputs": [],
   "source": [
    "import requests\n",
    "import json\n",
    "import pandas as pd\n",
    "import seaborn as sns\n",
    "import cryptocompare\n",
    "import matplotlib.pyplot as plt\n",
    "from sklearn.cluster import KMeans\n",
    "from datetime import datetime\n",
    "import numpy as np\n",
    "from sklearn.decomposition import PCA\n",
    "from sklearn.preprocessing import StandardScaler\n",
    "import missingno as msno\n",
    "from IPython.display import HTML\n",
    "import matplotlib.dates as md\n",
    "import math\n",
    "import time"
   ]
  },
  {
   "cell_type": "markdown",
   "metadata": {},
   "source": [
    "### Fetch Swap Transaction Data"
   ]
  },
  {
   "cell_type": "markdown",
   "metadata": {},
   "source": [
    "Here, we write a query to fetch transaction information from the API."
   ]
  },
  {
   "cell_type": "code",
   "execution_count": 2,
   "metadata": {},
   "outputs": [
    {
     "name": "stdout",
     "output_type": "stream",
     "text": [
      "<class 'pandas.core.frame.DataFrame'>\n",
      "RangeIndex: 1000 entries, 0 to 999\n",
      "Data columns (total 9 columns):\n",
      " #   Column              Non-Null Count  Dtype \n",
      "---  ------              --------------  ----- \n",
      " 0   borrowRateModeFrom  1000 non-null   object\n",
      " 1   borrowRateModeTo    1000 non-null   object\n",
      " 2   pool                1000 non-null   object\n",
      " 3   reserve             1000 non-null   object\n",
      " 4   stableBorrowRate    1000 non-null   object\n",
      " 5   timestamp           1000 non-null   int64 \n",
      " 6   user                1000 non-null   object\n",
      " 7   variableBorrowRate  1000 non-null   object\n",
      " 8   type                1000 non-null   object\n",
      "dtypes: int64(1), object(8)\n",
      "memory usage: 70.4+ KB\n"
     ]
    }
   ],
   "source": [
    "lastId='\"\"'\n",
    "swap_data=[]\n",
    "while(1):\n",
    "    try:\n",
    "        #set query\n",
    "        query=\"\"\"\n",
    "        {\n",
    "          swaps(first: 1000 orderBy: id where:{id_gt:\"\"\"+lastId+\"\"\"}) {\n",
    "            pool{\n",
    "                id\n",
    "            }\n",
    "            user{\n",
    "                id\n",
    "            }\n",
    "            reserve{\n",
    "                symbol\n",
    "            }\n",
    "            borrowRateModeFrom\n",
    "            borrowRateModeTo\n",
    "            stableBorrowRate\n",
    "            variableBorrowRate\n",
    "            timestamp\n",
    "          }\n",
    "        }\n",
    "        \"\"\"\n",
    "        #make request\n",
    "        url = 'https://api.thegraph.com/subgraphs/name/aave/protocol-v2'\n",
    "        request = requests.post(url,json={'query':query})\n",
    "        #store data\n",
    "        swap_data.extend(request.json()['data']['swaps'])\n",
    "        lastId = \"\\\"\"+request.json()['data']['swaps'][-1]['id']+\"\\\"\"\n",
    "    except:\n",
    "        #exit when no more data left to get\n",
    "        break\n",
    "\n",
    "#create borrows data frame\n",
    "df_swaps = pd.DataFrame(swap_data)\n",
    "df_swaps['type']='swap'\n",
    "df_swaps.info()"
   ]
  },
  {
   "cell_type": "markdown",
   "metadata": {},
   "source": [
    "### Re-Format Swap Transaction Data"
   ]
  },
  {
   "cell_type": "markdown",
   "metadata": {},
   "source": [
    "Some of the values in the dataset are dictionaries, so we must re-format the data to get the wanted field from those dictionaries."
   ]
  },
  {
   "cell_type": "code",
   "execution_count": 3,
   "metadata": {},
   "outputs": [],
   "source": [
    "#get id's\n",
    "def getUser(row):\n",
    "    return row['user']['id']\n",
    "df_swaps['user']=df_swaps.apply(lambda x: getUser(x), axis=1)\n",
    "\n",
    "def getPool(row):\n",
    "    return row['pool']['id']\n",
    "df_swaps['pool']=df_swaps.apply(lambda x: getPool(x), axis=1)\n",
    "\n",
    "#get symbols\n",
    "def getReserve(row):\n",
    "    if not isinstance(row['reserve'],float):\n",
    "        return row['reserve']['symbol']\n",
    "    else:\n",
    "        return np.nan\n",
    "df_swaps['reserve']=df_swaps.apply(lambda x: getReserve(x), axis=1)"
   ]
  },
  {
   "cell_type": "markdown",
   "metadata": {},
   "source": [
    "### Format Borrow Rates"
   ]
  },
  {
   "cell_type": "markdown",
   "metadata": {},
   "source": [
    "Next, we format the borrow rates so that they are represented as percentages."
   ]
  },
  {
   "cell_type": "code",
   "execution_count": 4,
   "metadata": {},
   "outputs": [],
   "source": [
    "df_swaps['stableBorrowRate'] = df_swaps['stableBorrowRate'].astype(float)/1e27*100\n",
    "df_swaps['variableBorrowRate'] = df_swaps['variableBorrowRate'].astype(float)/1e27*100"
   ]
  },
  {
   "cell_type": "markdown",
   "metadata": {},
   "source": [
    "### Save Final Data Frame"
   ]
  },
  {
   "cell_type": "markdown",
   "metadata": {},
   "source": [
    "Finally, we save the dataframe to a csv file."
   ]
  },
  {
   "cell_type": "code",
   "execution_count": 5,
   "metadata": {},
   "outputs": [],
   "source": [
    "df_swaps.to_csv(\"swaps.csv\",index=False)"
   ]
  },
  {
   "cell_type": "code",
   "execution_count": null,
   "metadata": {},
   "outputs": [],
   "source": []
  }
 ],
 "metadata": {
  "kernelspec": {
   "display_name": "Python [conda env:blockchain]",
   "language": "python",
   "name": "conda-env-blockchain-py"
  },
  "language_info": {
   "codemirror_mode": {
    "name": "ipython",
    "version": 3
   },
   "file_extension": ".py",
   "mimetype": "text/x-python",
   "name": "python",
   "nbconvert_exporter": "python",
   "pygments_lexer": "ipython3",
   "version": "3.8.10"
  }
 },
 "nbformat": 4,
 "nbformat_minor": 2
}
