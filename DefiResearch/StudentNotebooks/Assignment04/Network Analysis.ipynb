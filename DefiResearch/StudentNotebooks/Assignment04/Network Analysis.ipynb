{
 "cells": [
  {
   "cell_type": "code",
   "execution_count": 21,
   "metadata": {},
   "outputs": [],
   "source": [
    "import pandas as pd\n",
    "import numpy as np\n",
    "import networkx as nx\n",
    "import seaborn as sns\n",
    "import graphistry\n",
    "import matplotlib.pyplot as plt\n",
    "from web3 import Web3"
   ]
  },
  {
   "cell_type": "code",
   "execution_count": 25,
   "metadata": {},
   "outputs": [
    {
     "data": {
      "text/plain": [
       "False"
      ]
     },
     "execution_count": 25,
     "metadata": {},
     "output_type": "execute_result"
    }
   ],
   "source": [
    "w3 = Web3(Web3.HTTPProvider('https://mainnet.infura.io/v3/<infura-project-id>'))\n",
    "w3.isConnected()"
   ]
  },
  {
   "cell_type": "code",
   "execution_count": 2,
   "metadata": {},
   "outputs": [
    {
     "name": "stderr",
     "output_type": "stream",
     "text": [
      "/usr/local/etc/anaconda3/envs/blockchain/lib/python3.8/site-packages/IPython/core/interactiveshell.py:3165: DtypeWarning: Columns (2,13,15,22,23) have mixed types.Specify dtype option on import or set low_memory=False.\n",
      "  has_raised = await self.run_ast_nodes(code_ast.body, cell_name,\n"
     ]
    },
    {
     "name": "stdout",
     "output_type": "stream",
     "text": [
      "<class 'pandas.core.frame.DataFrame'>\n",
      "RangeIndex: 481519 entries, 0 to 481518\n",
      "Data columns (total 26 columns):\n",
      " #   Column                     Non-Null Count   Dtype  \n",
      "---  ------                     --------------   -----  \n",
      " 0   amount                     474230 non-null  float64\n",
      " 1   borrowRate                 94977 non-null   float64\n",
      " 2   borrowRateMode             94977 non-null   object \n",
      " 3   onBehalfOf                 474230 non-null  object \n",
      " 4   pool                       481519 non-null  object \n",
      " 5   reserve                    475230 non-null  object \n",
      " 6   timestamp                  481519 non-null  int64  \n",
      " 7   user                       481519 non-null  object \n",
      " 8   type                       481519 non-null  object \n",
      " 9   reservePriceETH            474230 non-null  float64\n",
      " 10  reservePriceUSD            474230 non-null  float64\n",
      " 11  amountUSD                  474230 non-null  float64\n",
      " 12  collateralAmount           6289 non-null    float64\n",
      " 13  collateralReserve          6289 non-null    object \n",
      " 14  principalAmount            6289 non-null    float64\n",
      " 15  principalReserve           6289 non-null    object \n",
      " 16  reservePriceETHPrincipal   6289 non-null    float64\n",
      " 17  reservePriceUSDPrincipal   6289 non-null    float64\n",
      " 18  reservePriceETHCollateral  6289 non-null    float64\n",
      " 19  reservePriceUSDCollateral  6289 non-null    float64\n",
      " 20  amountUSDPincipal          6289 non-null    float64\n",
      " 21  amountUSDCollateral        6289 non-null    float64\n",
      " 22  borrowRateModeFrom         1000 non-null    object \n",
      " 23  borrowRateModeTo           1000 non-null    object \n",
      " 24  stableBorrowRate           1000 non-null    float64\n",
      " 25  variableBorrowRate         1000 non-null    float64\n",
      "dtypes: float64(15), int64(1), object(10)\n",
      "memory usage: 95.5+ MB\n"
     ]
    }
   ],
   "source": [
    "#load in data\n",
    "df = pd.read_csv('transactions.csv')\n",
    "df.info()"
   ]
  },
  {
   "cell_type": "code",
   "execution_count": 3,
   "metadata": {},
   "outputs": [
    {
     "data": {
      "text/plain": [
       "0x498c5431eb517101582988fbb36431ddaac8f4b1    28202\n",
       "0xcc9a0b7c43dc2a5f023bb9b738e45b0ef6b06e04    15962\n",
       "0xdebf20617708857ebe4f679508e7b7863a8a8eee    10977\n",
       "0x63a3f444e97d14e671e7ee323c4234c8095e3516     9205\n",
       "0xdcd33426ba191383f1c9b431a342498fdac73488     6754\n",
       "                                              ...  \n",
       "0xec71552cead53befd1eddafbfd8861bf86d677b6        1\n",
       "0xda1c6e8286a5934b4f03894373b39af9b8633a6b        1\n",
       "0xeaef162d982af415b552d336111722c652a20f1f        1\n",
       "0x510c2801e34a149ce3f3516e0b568ccdc80aa906        1\n",
       "0xb50c6b3b12fabd530ed401746feffe3f09fa2dcb        1\n",
       "Name: onBehalfOf, Length: 45843, dtype: int64"
      ]
     },
     "execution_count": 3,
     "metadata": {},
     "output_type": "execute_result"
    }
   ],
   "source": [
    "df['onBehalfOf'].value_counts()\n",
    "#0x498c5431eb517101582988fbb36431ddaac8f4b1\n",
    "#0xcc9a0b7c43dc2a5f023bb9b738e45b0ef6b06e04"
   ]
  },
  {
   "cell_type": "code",
   "execution_count": 4,
   "metadata": {},
   "outputs": [
    {
     "name": "stdout",
     "output_type": "stream",
     "text": [
      "<class 'pandas.core.frame.DataFrame'>\n",
      "Int64Index: 76684 entries, 69 to 481518\n",
      "Data columns (total 26 columns):\n",
      " #   Column                     Non-Null Count  Dtype  \n",
      "---  ------                     --------------  -----  \n",
      " 0   amount                     69395 non-null  float64\n",
      " 1   borrowRate                 2669 non-null   float64\n",
      " 2   borrowRateMode             2669 non-null   object \n",
      " 3   onBehalfOf                 69395 non-null  object \n",
      " 4   pool                       76684 non-null  object \n",
      " 5   reserve                    70395 non-null  object \n",
      " 6   timestamp                  76684 non-null  int64  \n",
      " 7   user                       76684 non-null  object \n",
      " 8   type                       76684 non-null  object \n",
      " 9   reservePriceETH            69395 non-null  float64\n",
      " 10  reservePriceUSD            69395 non-null  float64\n",
      " 11  amountUSD                  69395 non-null  float64\n",
      " 12  collateralAmount           6289 non-null   float64\n",
      " 13  collateralReserve          6289 non-null   object \n",
      " 14  principalAmount            6289 non-null   float64\n",
      " 15  principalReserve           6289 non-null   object \n",
      " 16  reservePriceETHPrincipal   6289 non-null   float64\n",
      " 17  reservePriceUSDPrincipal   6289 non-null   float64\n",
      " 18  reservePriceETHCollateral  6289 non-null   float64\n",
      " 19  reservePriceUSDCollateral  6289 non-null   float64\n",
      " 20  amountUSDPincipal          6289 non-null   float64\n",
      " 21  amountUSDCollateral        6289 non-null   float64\n",
      " 22  borrowRateModeFrom         1000 non-null   object \n",
      " 23  borrowRateModeTo           1000 non-null   object \n",
      " 24  stableBorrowRate           1000 non-null   float64\n",
      " 25  variableBorrowRate         1000 non-null   float64\n",
      "dtypes: float64(15), int64(1), object(10)\n",
      "memory usage: 15.8+ MB\n"
     ]
    }
   ],
   "source": [
    "smarts=['0xB53C1a33016B2DC2fF3653530bfF1848a515c8c5',\n",
    "          '0x52D306e36E3B6B02c153d0266ff0f85d18BCD413',\n",
    "          '0x7d2768dE32b0b80b7a3454c06BdAc94A69DDc7A9',\n",
    "          '0xbd4765210d4167CE2A5b87280D9E8Ee316D5EC7C',\n",
    "          '0x311Bb771e4F8952E6Da169b425E7e92d6Ac45756',\n",
    "          '0x8A32f49FFbA88aba6EFF96F45D8BD1D4b3f35c7D',\n",
    "          '0xA50ba011c48153De246E5192C8f9258A2ba79Ca9',\n",
    "          '0xB9062896ec3A615a4e4444DF183F0531a77218AE',\n",
    "          '0xB9062896ec3A615a4e4444DF183F0531a77218AE',\n",
    "          '0x057835Ad21a177dbdd3090bB1CAE03EaCF78Fc6d',\n",
    "          '0xcc9a0B7c43DC2a5F023Bb9b738E45B0Ef6B06E04',\n",
    "          '0x464C71f6c2F760DdA6093dCB91C24c39e5d6e18c',\n",
    "          '0xd784927Ff2f95ba542BfC824c8a8a98F3495f6b5',\n",
    "           '0xAcc030EF66f9dFEAE9CbB0cd1B25654b82cFA8d5',\n",
    "           '0x7937d4799803fbbe595ed57278bc4ca21f3bffcb',\n",
    "           '0xbd4765210d4167ce2a5b87280d9e8ee316d5ec7c',\n",
    "           '0x23a875ede3f1030138701683e42e9b16a7f87768',\n",
    "           '0x8a32f49ffba88aba6eff96f45d8bd1d4b3f35c7d',\n",
    "           '0xa50ba011c48153de246e5192c8f9258a2ba79ca9',\n",
    "           '0xc443AD9DDE3cecfB9dfC5736578f447aFE3590ba',\n",
    "           '0xcc9a0B7c43DC2a5F023Bb9b738E45B0Ef6B06E04',\n",
    "           '0x464C71f6c2F760DdA6093dCB91C24c39e5d6e18c']\n",
    "\n",
    "for i in range(len(smarts)):\n",
    "    smarts[i]=smarts[i].lower()\n",
    "\n",
    "df = df[~df['user'].isin(smarts)]\n",
    "df = df[df['user']!=df['onBehalfOf']]\n",
    "df.info()"
   ]
  },
  {
   "cell_type": "code",
   "execution_count": 5,
   "metadata": {},
   "outputs": [
    {
     "data": {
      "text/plain": [
       "0xdcd33426ba191383f1c9b431a342498fdac73488    15352\n",
       "0xdebf20617708857ebe4f679508e7b7863a8a8eee     9802\n",
       "0x63a3f444e97d14e671e7ee323c4234c8095e3516     9205\n",
       "0x135896de8421be2ec868e0b811006171d9df802a     3246\n",
       "0xbcc4371cc40592794bf5b727c17cf7de37ac180a     2684\n",
       "                                              ...  \n",
       "0xf75a0bf2cb8c87ce64c4d379e4c9e55e7dec87be        1\n",
       "0x02ac45ae315fd6fdab7099e520b3d0849da83a8b        1\n",
       "0x585de4a1f910540345abd828e0e81d0d03a113ed        1\n",
       "0xe11ad4d81aac2fcdbf123f7a08286c265fd1f827        1\n",
       "0x0999033a70b936bd10582437040550eab875ca95        1\n",
       "Name: user, Length: 8659, dtype: int64"
      ]
     },
     "execution_count": 5,
     "metadata": {},
     "output_type": "execute_result"
    }
   ],
   "source": [
    "df['user'].value_counts()"
   ]
  },
  {
   "cell_type": "code",
   "execution_count": 6,
   "metadata": {},
   "outputs": [
    {
     "data": {
      "text/plain": [
       "0x498c5431eb517101582988fbb36431ddaac8f4b1    14101\n",
       "0xe069cb01d06ba617bcdf789bf2ff0d5e5ca20c71     3984\n",
       "0xcc9a0b7c43dc2a5f023bb9b738e45b0ef6b06e04     2838\n",
       "0xfd3dfb524b2da40c8a6d703c62be36b5d8540626     1559\n",
       "0xdcd33426ba191383f1c9b431a342498fdac73488     1513\n",
       "                                              ...  \n",
       "0xa5367338a7ed2e1387f762aa0fac9275b917690d        1\n",
       "0x4bb34bb979239f69d01c2a558cebb58eee13ffa1        1\n",
       "0x43b30be5cec9fd73ebf4922b21ee9e63ac178311        1\n",
       "0x2db3d4df23069a937ddd42f5fb5cab24032ca007        1\n",
       "0x9bc40dc6d5753de0a0eaf02c2b891ae5c95ebbb2        1\n",
       "Name: onBehalfOf, Length: 13156, dtype: int64"
      ]
     },
     "execution_count": 6,
     "metadata": {},
     "output_type": "execute_result"
    }
   ],
   "source": [
    "df['onBehalfOf'].value_counts()"
   ]
  },
  {
   "cell_type": "code",
   "execution_count": 7,
   "metadata": {},
   "outputs": [],
   "source": [
    "all_users = set(df['user']).union(set(df['onBehalfOf']))\n",
    "i=0\n",
    "user_map = dict()\n",
    "for user in all_users:\n",
    "    user_map[user]=i\n",
    "    i+=1"
   ]
  },
  {
   "cell_type": "code",
   "execution_count": 8,
   "metadata": {},
   "outputs": [],
   "source": [
    "df['user'] = df['user'].map(user_map)\n",
    "df['onBehalfOf'] = df['onBehalfOf'].map(user_map)"
   ]
  },
  {
   "cell_type": "code",
   "execution_count": 9,
   "metadata": {},
   "outputs": [],
   "source": [
    "graphistry.register(api=3,username='Chris95cam',password='x@9DePmTfLPi@2a')"
   ]
  },
  {
   "cell_type": "code",
   "execution_count": 10,
   "metadata": {},
   "outputs": [],
   "source": [
    "g = graphistry.edges(df,'onBehalfOf','user')"
   ]
  },
  {
   "cell_type": "code",
   "execution_count": 11,
   "metadata": {},
   "outputs": [
    {
     "data": {
      "text/html": [
       "\n",
       "            <iframe id=\"792a5d52-e0a3-4635-ab77-ca669b8b8e24\" src=\"https://hub.graphistry.com/graph/graph.html?dataset=6cad1f6ad2fe40f3a2f9e892a4c0f95e&type=arrow&viztoken=1578140c-e1bf-4381-8d6f-5552820fa790&usertag=d405080c-pygraphistry-0.20.1&splashAfter=1633416592&info=true\"\n",
       "                    allowfullscreen=\"true\" webkitallowfullscreen=\"true\" mozallowfullscreen=\"true\"\n",
       "                    oallowfullscreen=\"true\" msallowfullscreen=\"true\"\n",
       "                    style=\"width:100%; height:500px; border: 1px solid #DDD; overflow: hidden\">\n",
       "            </iframe>\n",
       "        \n",
       "            <script>\n",
       "                try {\n",
       "                  $(\"#792a5d52-e0a3-4635-ab77-ca669b8b8e24\").bind('mousewheel', function(e) { e.preventDefault(); });\n",
       "                } catch (e) { console.error('exn catching scroll', e); }\n",
       "            </script>\n",
       "        "
      ],
      "text/plain": [
       "<IPython.core.display.HTML object>"
      ]
     },
     "execution_count": 11,
     "metadata": {},
     "output_type": "execute_result"
    }
   ],
   "source": [
    "g.plot()"
   ]
  },
  {
   "cell_type": "code",
   "execution_count": 12,
   "metadata": {},
   "outputs": [
    {
     "data": {
      "text/html": [
       "<div>\n",
       "<style scoped>\n",
       "    .dataframe tbody tr th:only-of-type {\n",
       "        vertical-align: middle;\n",
       "    }\n",
       "\n",
       "    .dataframe tbody tr th {\n",
       "        vertical-align: top;\n",
       "    }\n",
       "\n",
       "    .dataframe thead th {\n",
       "        text-align: right;\n",
       "    }\n",
       "</style>\n",
       "<table border=\"1\" class=\"dataframe\">\n",
       "  <thead>\n",
       "    <tr style=\"text-align: right;\">\n",
       "      <th></th>\n",
       "      <th>amount</th>\n",
       "      <th>borrowRate</th>\n",
       "      <th>borrowRateMode</th>\n",
       "      <th>onBehalfOf</th>\n",
       "      <th>pool</th>\n",
       "      <th>reserve</th>\n",
       "      <th>timestamp</th>\n",
       "      <th>user</th>\n",
       "      <th>type</th>\n",
       "      <th>reservePriceETH</th>\n",
       "      <th>...</th>\n",
       "      <th>reservePriceETHPrincipal</th>\n",
       "      <th>reservePriceUSDPrincipal</th>\n",
       "      <th>reservePriceETHCollateral</th>\n",
       "      <th>reservePriceUSDCollateral</th>\n",
       "      <th>amountUSDPincipal</th>\n",
       "      <th>amountUSDCollateral</th>\n",
       "      <th>borrowRateModeFrom</th>\n",
       "      <th>borrowRateModeTo</th>\n",
       "      <th>stableBorrowRate</th>\n",
       "      <th>variableBorrowRate</th>\n",
       "    </tr>\n",
       "  </thead>\n",
       "  <tbody>\n",
       "    <tr>\n",
       "      <th>69</th>\n",
       "      <td>14.00</td>\n",
       "      <td>3.068973</td>\n",
       "      <td>Variable</td>\n",
       "      <td>16107</td>\n",
       "      <td>0xb53c1a33016b2dc2ff3653530bff1848a515c8c5</td>\n",
       "      <td>WETH</td>\n",
       "      <td>1612652597</td>\n",
       "      <td>9658</td>\n",
       "      <td>borrow</td>\n",
       "      <td>1.0</td>\n",
       "      <td>...</td>\n",
       "      <td>NaN</td>\n",
       "      <td>NaN</td>\n",
       "      <td>NaN</td>\n",
       "      <td>NaN</td>\n",
       "      <td>NaN</td>\n",
       "      <td>NaN</td>\n",
       "      <td>NaN</td>\n",
       "      <td>NaN</td>\n",
       "      <td>NaN</td>\n",
       "      <td>NaN</td>\n",
       "    </tr>\n",
       "    <tr>\n",
       "      <th>220</th>\n",
       "      <td>12.27</td>\n",
       "      <td>0.417700</td>\n",
       "      <td>Variable</td>\n",
       "      <td>7610</td>\n",
       "      <td>0xb53c1a33016b2dc2ff3653530bff1848a515c8c5</td>\n",
       "      <td>WETH</td>\n",
       "      <td>1609511236</td>\n",
       "      <td>9658</td>\n",
       "      <td>borrow</td>\n",
       "      <td>1.0</td>\n",
       "      <td>...</td>\n",
       "      <td>NaN</td>\n",
       "      <td>NaN</td>\n",
       "      <td>NaN</td>\n",
       "      <td>NaN</td>\n",
       "      <td>NaN</td>\n",
       "      <td>NaN</td>\n",
       "      <td>NaN</td>\n",
       "      <td>NaN</td>\n",
       "      <td>NaN</td>\n",
       "      <td>NaN</td>\n",
       "    </tr>\n",
       "    <tr>\n",
       "      <th>222</th>\n",
       "      <td>8.00</td>\n",
       "      <td>0.160707</td>\n",
       "      <td>Variable</td>\n",
       "      <td>16391</td>\n",
       "      <td>0xb53c1a33016b2dc2ff3653530bff1848a515c8c5</td>\n",
       "      <td>WETH</td>\n",
       "      <td>1607142253</td>\n",
       "      <td>9658</td>\n",
       "      <td>borrow</td>\n",
       "      <td>1.0</td>\n",
       "      <td>...</td>\n",
       "      <td>NaN</td>\n",
       "      <td>NaN</td>\n",
       "      <td>NaN</td>\n",
       "      <td>NaN</td>\n",
       "      <td>NaN</td>\n",
       "      <td>NaN</td>\n",
       "      <td>NaN</td>\n",
       "      <td>NaN</td>\n",
       "      <td>NaN</td>\n",
       "      <td>NaN</td>\n",
       "    </tr>\n",
       "    <tr>\n",
       "      <th>247</th>\n",
       "      <td>30.00</td>\n",
       "      <td>1.609256</td>\n",
       "      <td>Variable</td>\n",
       "      <td>11989</td>\n",
       "      <td>0xb53c1a33016b2dc2ff3653530bff1848a515c8c5</td>\n",
       "      <td>WETH</td>\n",
       "      <td>1613532571</td>\n",
       "      <td>9658</td>\n",
       "      <td>borrow</td>\n",
       "      <td>1.0</td>\n",
       "      <td>...</td>\n",
       "      <td>NaN</td>\n",
       "      <td>NaN</td>\n",
       "      <td>NaN</td>\n",
       "      <td>NaN</td>\n",
       "      <td>NaN</td>\n",
       "      <td>NaN</td>\n",
       "      <td>NaN</td>\n",
       "      <td>NaN</td>\n",
       "      <td>NaN</td>\n",
       "      <td>NaN</td>\n",
       "    </tr>\n",
       "    <tr>\n",
       "      <th>338</th>\n",
       "      <td>4.00</td>\n",
       "      <td>2.617187</td>\n",
       "      <td>Variable</td>\n",
       "      <td>8613</td>\n",
       "      <td>0xb53c1a33016b2dc2ff3653530bff1848a515c8c5</td>\n",
       "      <td>WETH</td>\n",
       "      <td>1615704565</td>\n",
       "      <td>9658</td>\n",
       "      <td>borrow</td>\n",
       "      <td>1.0</td>\n",
       "      <td>...</td>\n",
       "      <td>NaN</td>\n",
       "      <td>NaN</td>\n",
       "      <td>NaN</td>\n",
       "      <td>NaN</td>\n",
       "      <td>NaN</td>\n",
       "      <td>NaN</td>\n",
       "      <td>NaN</td>\n",
       "      <td>NaN</td>\n",
       "      <td>NaN</td>\n",
       "      <td>NaN</td>\n",
       "    </tr>\n",
       "  </tbody>\n",
       "</table>\n",
       "<p>5 rows × 26 columns</p>\n",
       "</div>"
      ],
      "text/plain": [
       "     amount  borrowRate borrowRateMode  onBehalfOf  \\\n",
       "69    14.00    3.068973       Variable       16107   \n",
       "220   12.27    0.417700       Variable        7610   \n",
       "222    8.00    0.160707       Variable       16391   \n",
       "247   30.00    1.609256       Variable       11989   \n",
       "338    4.00    2.617187       Variable        8613   \n",
       "\n",
       "                                           pool reserve   timestamp  user  \\\n",
       "69   0xb53c1a33016b2dc2ff3653530bff1848a515c8c5    WETH  1612652597  9658   \n",
       "220  0xb53c1a33016b2dc2ff3653530bff1848a515c8c5    WETH  1609511236  9658   \n",
       "222  0xb53c1a33016b2dc2ff3653530bff1848a515c8c5    WETH  1607142253  9658   \n",
       "247  0xb53c1a33016b2dc2ff3653530bff1848a515c8c5    WETH  1613532571  9658   \n",
       "338  0xb53c1a33016b2dc2ff3653530bff1848a515c8c5    WETH  1615704565  9658   \n",
       "\n",
       "       type  reservePriceETH  ...  reservePriceETHPrincipal  \\\n",
       "69   borrow              1.0  ...                       NaN   \n",
       "220  borrow              1.0  ...                       NaN   \n",
       "222  borrow              1.0  ...                       NaN   \n",
       "247  borrow              1.0  ...                       NaN   \n",
       "338  borrow              1.0  ...                       NaN   \n",
       "\n",
       "     reservePriceUSDPrincipal  reservePriceETHCollateral  \\\n",
       "69                        NaN                        NaN   \n",
       "220                       NaN                        NaN   \n",
       "222                       NaN                        NaN   \n",
       "247                       NaN                        NaN   \n",
       "338                       NaN                        NaN   \n",
       "\n",
       "    reservePriceUSDCollateral  amountUSDPincipal amountUSDCollateral  \\\n",
       "69                        NaN                NaN                 NaN   \n",
       "220                       NaN                NaN                 NaN   \n",
       "222                       NaN                NaN                 NaN   \n",
       "247                       NaN                NaN                 NaN   \n",
       "338                       NaN                NaN                 NaN   \n",
       "\n",
       "     borrowRateModeFrom  borrowRateModeTo  stableBorrowRate  \\\n",
       "69                  NaN               NaN               NaN   \n",
       "220                 NaN               NaN               NaN   \n",
       "222                 NaN               NaN               NaN   \n",
       "247                 NaN               NaN               NaN   \n",
       "338                 NaN               NaN               NaN   \n",
       "\n",
       "     variableBorrowRate  \n",
       "69                  NaN  \n",
       "220                 NaN  \n",
       "222                 NaN  \n",
       "247                 NaN  \n",
       "338                 NaN  \n",
       "\n",
       "[5 rows x 26 columns]"
      ]
     },
     "execution_count": 12,
     "metadata": {},
     "output_type": "execute_result"
    }
   ],
   "source": [
    "df.head()"
   ]
  },
  {
   "cell_type": "code",
   "execution_count": 13,
   "metadata": {},
   "outputs": [
    {
     "data": {
      "text/plain": [
       "9658     15352\n",
       "16857     9802\n",
       "1141      9205\n",
       "16819     3246\n",
       "1411      2684\n",
       "         ...  \n",
       "5534         1\n",
       "3485         1\n",
       "9624         1\n",
       "15707        1\n",
       "6179         1\n",
       "Name: user, Length: 8659, dtype: int64"
      ]
     },
     "execution_count": 13,
     "metadata": {},
     "output_type": "execute_result"
    }
   ],
   "source": [
    "df['user'].value_counts()"
   ]
  },
  {
   "cell_type": "code",
   "execution_count": null,
   "metadata": {},
   "outputs": [],
   "source": []
  }
 ],
 "metadata": {
  "kernelspec": {
   "display_name": "Python [conda env:blockchain]",
   "language": "python",
   "name": "conda-env-blockchain-py"
  },
  "language_info": {
   "codemirror_mode": {
    "name": "ipython",
    "version": 3
   },
   "file_extension": ".py",
   "mimetype": "text/x-python",
   "name": "python",
   "nbconvert_exporter": "python",
   "pygments_lexer": "ipython3",
   "version": "3.8.10"
  }
 },
 "nbformat": 4,
 "nbformat_minor": 2
}
