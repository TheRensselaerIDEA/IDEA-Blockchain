{
 "cells": [
  {
   "cell_type": "markdown",
   "metadata": {},
   "source": [
    "# Liquidation Analysis"
   ]
  },
  {
   "cell_type": "code",
   "execution_count": 1,
   "metadata": {},
   "outputs": [],
   "source": [
    "#import packages\n",
    "import pandas as pd\n",
    "import numpy as np\n",
    "import networkx as nx\n",
    "import seaborn as sns\n",
    "import graphistry\n",
    "import matplotlib.pyplot as plt"
   ]
  },
  {
   "cell_type": "markdown",
   "metadata": {},
   "source": [
    "## Data Preparation"
   ]
  },
  {
   "cell_type": "markdown",
   "metadata": {},
   "source": [
    "### Load Data"
   ]
  },
  {
   "cell_type": "code",
   "execution_count": 2,
   "metadata": {},
   "outputs": [
    {
     "name": "stderr",
     "output_type": "stream",
     "text": [
      "/usr/local/etc/anaconda3/envs/blockchain/lib/python3.8/site-packages/IPython/core/interactiveshell.py:3165: DtypeWarning: Columns (2,3,13,14,16,23,24,27,28,31,32) have mixed types.Specify dtype option on import or set low_memory=False.\n",
      "  has_raised = await self.run_ast_nodes(code_ast.body, cell_name,\n"
     ]
    },
    {
     "name": "stdout",
     "output_type": "stream",
     "text": [
      "<class 'pandas.core.frame.DataFrame'>\n",
      "Int64Index: 685824 entries, 1 to 745611\n",
      "Data columns (total 34 columns):\n",
      " #   Column                     Non-Null Count   Dtype  \n",
      "---  ------                     --------------   -----  \n",
      " 0   amount                     484146 non-null  float64\n",
      " 1   borrowRate                 104296 non-null  float64\n",
      " 2   borrowRateMode             104296 non-null  object \n",
      " 3   onBehalfOf                 484146 non-null  object \n",
      " 4   pool                       685824 non-null  object \n",
      " 5   reserve                    679093 non-null  object \n",
      " 6   timestamp                  685824 non-null  int64  \n",
      " 7   user                       685824 non-null  object \n",
      " 8   type                       685824 non-null  object \n",
      " 9   reservePriceETH            484146 non-null  float64\n",
      " 10  reservePriceUSD            484146 non-null  float64\n",
      " 11  amountUSD                  484146 non-null  float64\n",
      " 12  collateralAmount           6731 non-null    float64\n",
      " 13  collateralReserve          6731 non-null    object \n",
      " 14  liquidator                 6731 non-null    object \n",
      " 15  principalAmount            6731 non-null    float64\n",
      " 16  principalReserve           6731 non-null    object \n",
      " 17  reservePriceETHPrincipal   6731 non-null    float64\n",
      " 18  reservePriceUSDPrincipal   6731 non-null    float64\n",
      " 19  reservePriceETHCollateral  6731 non-null    float64\n",
      " 20  reservePriceUSDCollateral  6731 non-null    float64\n",
      " 21  amountUSDPincipal          6731 non-null    float64\n",
      " 22  amountUSDCollateral        6731 non-null    float64\n",
      " 23  borrowRateModeFrom         2874 non-null    object \n",
      " 24  borrowRateModeTo           2874 non-null    object \n",
      " 25  stableBorrowRate           2874 non-null    float64\n",
      " 26  variableBorrowRate         2874 non-null    float64\n",
      " 27  fromState                  192073 non-null  object \n",
      " 28  toState                    192073 non-null  object \n",
      " 29  protocolContract           685824 non-null  bool   \n",
      " 30  user_alias                 685824 non-null  object \n",
      " 31  onBehalfOf_alias           484146 non-null  object \n",
      " 32  liquidator_alias           6731 non-null    object \n",
      " 33  datetime                   685824 non-null  object \n",
      "dtypes: bool(1), float64(15), int64(1), object(17)\n",
      "memory usage: 178.6+ MB\n"
     ]
    }
   ],
   "source": [
    "#load transaction data\n",
    "transactions = pd.read_csv('transactions2.csv')\n",
    "#filter out Aave smart contracts\n",
    "transactions = transactions[~transactions['protocolContract']]\n",
    "transactions.info()"
   ]
  },
  {
   "cell_type": "code",
   "execution_count": 3,
   "metadata": {},
   "outputs": [
    {
     "data": {
      "text/plain": [
       "'2021-10-17 05:39:19'"
      ]
     },
     "execution_count": 3,
     "metadata": {},
     "output_type": "execute_result"
    }
   ],
   "source": [
    "transactions['datetime'].max()"
   ]
  },
  {
   "cell_type": "markdown",
   "metadata": {},
   "source": [
    "### Data Cleaning"
   ]
  },
  {
   "cell_type": "code",
   "execution_count": 4,
   "metadata": {},
   "outputs": [
    {
     "name": "stdout",
     "output_type": "stream",
     "text": [
      "<class 'pandas.core.frame.DataFrame'>\n",
      "Int64Index: 6731 entries, 180306 to 187036\n",
      "Data columns (total 19 columns):\n",
      " #   Column                     Non-Null Count  Dtype  \n",
      "---  ------                     --------------  -----  \n",
      " 0   pool                       6731 non-null   object \n",
      " 1   timestamp                  6731 non-null   int64  \n",
      " 2   user                       6731 non-null   object \n",
      " 3   type                       6731 non-null   object \n",
      " 4   collateralAmount           6731 non-null   float64\n",
      " 5   collateralReserve          6731 non-null   object \n",
      " 6   liquidator                 6731 non-null   object \n",
      " 7   principalAmount            6731 non-null   float64\n",
      " 8   principalReserve           6731 non-null   object \n",
      " 9   reservePriceETHPrincipal   6731 non-null   float64\n",
      " 10  reservePriceUSDPrincipal   6731 non-null   float64\n",
      " 11  reservePriceETHCollateral  6731 non-null   float64\n",
      " 12  reservePriceUSDCollateral  6731 non-null   float64\n",
      " 13  amountUSDPincipal          6731 non-null   float64\n",
      " 14  amountUSDCollateral        6731 non-null   float64\n",
      " 15  protocolContract           6731 non-null   bool   \n",
      " 16  user_alias                 6731 non-null   object \n",
      " 17  liquidator_alias           6731 non-null   object \n",
      " 18  datetime                   6731 non-null   object \n",
      "dtypes: bool(1), float64(8), int64(1), object(9)\n",
      "memory usage: 1005.7+ KB\n"
     ]
    }
   ],
   "source": [
    "#filter for liquidations\n",
    "liquidations = transactions[transactions['type']=='liquidation'].copy()\n",
    "liquidations.dropna(axis=1,how='all',inplace=True)\n",
    "liquidations.info()"
   ]
  },
  {
   "cell_type": "code",
   "execution_count": 5,
   "metadata": {},
   "outputs": [
    {
     "name": "stdout",
     "output_type": "stream",
     "text": [
      "51419\n"
     ]
    }
   ],
   "source": [
    "#create data structures to keep track of users who have been liquidated\n",
    "users=dict()\n",
    "liquidators=[]\n",
    "nonliquidators=[]\n",
    "\n",
    "#iterate through each users' transactions\n",
    "groups = transactions.groupby('user')\n",
    "for ID, group in groups:\n",
    "    #check for liquidation\n",
    "    if 'liquidation' in group['type'].values:\n",
    "        users[ID]='Liquidatee'\n",
    "        liquidators.append(ID)\n",
    "    else:\n",
    "        users[ID]='Non-Liquidatee'\n",
    "        nonliquidators.append(ID)\n",
    "        \n",
    "print(len(users))"
   ]
  },
  {
   "cell_type": "code",
   "execution_count": 6,
   "metadata": {},
   "outputs": [
    {
     "data": {
      "text/plain": [
       "count     685824\n",
       "unique         2\n",
       "top        False\n",
       "freq      594103\n",
       "Name: isLiquidatee, dtype: object"
      ]
     },
     "execution_count": 6,
     "metadata": {},
     "output_type": "execute_result"
    }
   ],
   "source": [
    "#function to check if transaction belongs to a user who has been liquidated\n",
    "def isLiquidators(row):\n",
    "    if row['user'] in liquidators:\n",
    "        return True\n",
    "    else:\n",
    "        return False\n",
    "\n",
    "#apply to transaction data set\n",
    "transactions['isLiquidatee']= transactions.apply(lambda x: isLiquidators(x),axis=1)\n",
    "transactions['isLiquidatee'].describe()"
   ]
  },
  {
   "cell_type": "markdown",
   "metadata": {},
   "source": [
    "## Analysis"
   ]
  },
  {
   "cell_type": "code",
   "execution_count": 7,
   "metadata": {},
   "outputs": [],
   "source": [
    "#set plot theme\n",
    "sns.set_theme(style=\"darkgrid\")"
   ]
  },
  {
   "cell_type": "markdown",
   "metadata": {},
   "source": [
    "### How Many Liquidations Have Taken Place?"
   ]
  },
  {
   "cell_type": "code",
   "execution_count": 8,
   "metadata": {},
   "outputs": [
    {
     "data": {
      "text/plain": [
       "6731"
      ]
     },
     "execution_count": 8,
     "metadata": {},
     "output_type": "execute_result"
    }
   ],
   "source": [
    "#check how many liquidations have occurred\n",
    "len(liquidations)"
   ]
  },
  {
   "cell_type": "markdown",
   "metadata": {},
   "source": [
    "### How Many Users Have Liquidated?"
   ]
  },
  {
   "cell_type": "code",
   "execution_count": 9,
   "metadata": {},
   "outputs": [
    {
     "data": {
      "image/png": "[encoded data removed]",
      "text/plain": [
       "<Figure size 432x288 with 1 Axes>"
      ]
     },
     "metadata": {},
     "output_type": "display_data"
    }
   ],
   "source": [
    "#create countplot\n",
    "sns.countplot(x=list(users.values()))\n",
    "plt.title('How Many AAve Users Have Liquidated?')\n",
    "plt.show()"
   ]
  },
  {
   "cell_type": "code",
   "execution_count": 10,
   "metadata": {},
   "outputs": [
    {
     "data": {
      "text/plain": [
       "1993"
      ]
     },
     "execution_count": 10,
     "metadata": {},
     "output_type": "execute_result"
    }
   ],
   "source": [
    "#get count of users who have been liquidated\n",
    "len(liquidations['user'].unique())"
   ]
  },
  {
   "cell_type": "markdown",
   "metadata": {},
   "source": [
    "### How Many Liquidators are There?"
   ]
  },
  {
   "cell_type": "code",
   "execution_count": 11,
   "metadata": {},
   "outputs": [
    {
     "data": {
      "text/plain": [
       "133"
      ]
     },
     "execution_count": 11,
     "metadata": {},
     "output_type": "execute_result"
    }
   ],
   "source": [
    "#get count of users who have performed liquidations\n",
    "len(liquidations['liquidator'].unique())"
   ]
  },
  {
   "cell_type": "markdown",
   "metadata": {},
   "source": [
    "### How Many Actions Do Liquidators Take?"
   ]
  },
  {
   "cell_type": "code",
   "execution_count": 12,
   "metadata": {},
   "outputs": [
    {
     "data": {
      "image/png": "[encoded data removed]",
      "text/plain": [
       "<Figure size 432x288 with 1 Axes>"
      ]
     },
     "metadata": {},
     "output_type": "display_data"
    }
   ],
   "source": [
    "#create boxplot\n",
    "sns.boxplot(x=liquidations['liquidator'].value_counts(),color=sns.color_palette(\"tab10\")[2])\n",
    "plt.title('Number of Liquidations for Liquidators')\n",
    "plt.show()"
   ]
  },
  {
   "cell_type": "markdown",
   "metadata": {},
   "source": [
    "### How Many Liquidations do Liquidatees' Recieve?"
   ]
  },
  {
   "cell_type": "code",
   "execution_count": 13,
   "metadata": {},
   "outputs": [
    {
     "data": {
      "image/png": "[encoded data removed]",
      "text/plain": [
       "<Figure size 432x288 with 1 Axes>"
      ]
     },
     "metadata": {},
     "output_type": "display_data"
    }
   ],
   "source": [
    "#create boxplot\n",
    "sns.boxplot(x=liquidations['user'].value_counts(),color=sns.color_palette(\"tab10\")[1])\n",
    "plt.title('Number of Liquidations for Liquidatees')\n",
    "plt.show()"
   ]
  },
  {
   "cell_type": "markdown",
   "metadata": {},
   "source": [
    "### What do the Connections Between Liquidators and Liquidatees Look Like?"
   ]
  },
  {
   "cell_type": "code",
   "execution_count": 14,
   "metadata": {},
   "outputs": [
    {
     "data": {
      "text/html": [
       "\n",
       "            <iframe id=\"bf6b3f8d-68db-4efc-8dea-d6703688f867\" src=\"https://hub.graphistry.com/graph/graph.html?dataset=7cb261c046414ef698e4c68c32e74d4a&type=arrow&viztoken=8dacd67b-9163-4249-95c9-03c319d34636&usertag=d405080c-pygraphistry-0.20.1&splashAfter=1638743604&info=true\"\n",
       "                    allowfullscreen=\"true\" webkitallowfullscreen=\"true\" mozallowfullscreen=\"true\"\n",
       "                    oallowfullscreen=\"true\" msallowfullscreen=\"true\"\n",
       "                    style=\"width:100%; height:500px; border: 1px solid #DDD; overflow: hidden\">\n",
       "            </iframe>\n",
       "        \n",
       "            <script>\n",
       "                try {\n",
       "                  $(\"#bf6b3f8d-68db-4efc-8dea-d6703688f867\").bind('mousewheel', function(e) { e.preventDefault(); });\n",
       "                } catch (e) { console.error('exn catching scroll', e); }\n",
       "            </script>\n",
       "        "
      ],
      "text/plain": [
       "<IPython.core.display.HTML object>"
      ]
     },
     "execution_count": 14,
     "metadata": {},
     "output_type": "execute_result"
    }
   ],
   "source": [
    "#create graph showing connection \n",
    "graphistry.register(api=3,username='Chris95cam',password='x@9DePmTfLPi@2a')\n",
    "g = graphistry.edges(liquidations,'liquidator','user')\n",
    "g.plot()"
   ]
  },
  {
   "cell_type": "markdown",
   "metadata": {},
   "source": [
    "### What are Unique Characteristics of Liquidators vs Non Liquidators?"
   ]
  },
  {
   "cell_type": "code",
   "execution_count": 16,
   "metadata": {},
   "outputs": [
    {
     "data": {
      "image/png": "[encoded data removed]",
      "text/plain": [
       "<Figure size 432x288 with 1 Axes>"
      ]
     },
     "metadata": {},
     "output_type": "display_data"
    }
   ],
   "source": [
    "#get dataframes of transactions for liquidators and nonliquidators\n",
    "transactions_liquidators = transactions[transactions['isLiquidatee']]\n",
    "transactions_nonliquidators = transactions[~transactions['isLiquidatee']]\n",
    "\n",
    "#get proportions of transaction types for each type of user\n",
    "prop_nonliquidators = transactions_nonliquidators['type'].value_counts()/len(transactions_nonliquidators)\n",
    "prop_liquidators = transactions_liquidators['type'].value_counts()[['deposit','borrow','repay','redeem','swap','collateral']]/len(transactions_liquidators[~(transactions_liquidators['type']=='liquidation')])\n",
    "\n",
    "#create dataframe that will be used to plot data\n",
    "df_props_nonliquid = pd.DataFrame(prop_nonliquidators)\n",
    "df_props_nonliquid['Liquidatee']=False\n",
    "df_props_liquid = pd.DataFrame(prop_liquidators)\n",
    "df_props_liquid['Liquidatee']=True\n",
    "df_props = df_props_nonliquid.append(df_props_liquid)\n",
    "df_props.reset_index(inplace=True)\n",
    "\n",
    "#create plot\n",
    "sns.barplot(data=df_props,x='index',y='type',hue='Liquidatee')\n",
    "plt.title('Transaction Type Proportions')\n",
    "plt.xlabel('Type')\n",
    "plt.ylabel('Proportion')\n",
    "plt.show()"
   ]
  },
  {
   "cell_type": "code",
   "execution_count": 18,
   "metadata": {},
   "outputs": [
    {
     "data": {
      "image/png": "[encoded data removed]",
      "text/plain": [
       "<Figure size 432x288 with 1 Axes>"
      ]
     },
     "metadata": {},
     "output_type": "display_data"
    }
   ],
   "source": [
    "#get days active for both type of users\n",
    "days_active_liquidators = (transactions_liquidators.groupby('user')['timestamp'].max()-transactions_liquidators.groupby('user')['timestamp'].min())/(3600*24)\n",
    "days_active_nonliquidators = (transactions_nonliquidators.groupby('user')['timestamp'].max()-transactions_nonliquidators.groupby('user')['timestamp'].min())/(3600*24)\n",
    "\n",
    "#create dataframe to be plotted\n",
    "active_liquidators = pd.DataFrame(days_active_liquidators)\n",
    "active_liquidators['isLiquidatee']='True'\n",
    "active_nonliquidators = pd.DataFrame(days_active_nonliquidators)\n",
    "active_nonliquidators['isLiquidatee']='False'\n",
    "active = active_liquidators.append(active_nonliquidators)\n",
    "\n",
    "#create boxplot\n",
    "sns.boxplot(data=active,x='timestamp',y='isLiquidatee',palette=[sns.color_palette(\"tab10\")[1],sns.color_palette(\"tab10\")[0]])\n",
    "plt.title('Days Active for Users')\n",
    "plt.xlabel('Days Active')\n",
    "plt.ylabel('Liquidatee')\n",
    "plt.show()"
   ]
  },
  {
   "cell_type": "code",
   "execution_count": 23,
   "metadata": {},
   "outputs": [
    {
     "data": {
      "image/png": "[encoded data removed]",
      "text/plain": [
       "<Figure size 432x288 with 1 Axes>"
      ]
     },
     "metadata": {},
     "output_type": "display_data"
    }
   ],
   "source": [
    "#get dataframes of transactions for liquidators and nonliquidators\n",
    "transactions_liquidators = transactions[transactions['isLiquidatee']]\n",
    "transactions_nonliquidators = transactions[~transactions['isLiquidatee']]\n",
    "\n",
    "#get average number of transaction types per user\n",
    "counts_nonliquidators = transactions_nonliquidators['type'].value_counts()/len(nonliquidators)\n",
    "counts_liquidators = transactions_liquidators['type'].value_counts()[['deposit','borrow','repay','redeem','swap','collateral']]/len(liquidators)\n",
    "\n",
    "#create dataframe that will be used to plot data\n",
    "df_counts_nonliquid = pd.DataFrame(counts_nonliquidators)\n",
    "df_counts_nonliquid['Liquidatee']=False\n",
    "df_counts_liquid = pd.DataFrame(counts_liquidators)\n",
    "df_counts_liquid['Liquidatee']=True\n",
    "df_counts = df_counts_nonliquid.append(df_counts_liquid)\n",
    "df_counts.reset_index(inplace=True)\n",
    "\n",
    "#create plot\n",
    "sns.barplot(data=df_counts,x='index',y='type',hue='Liquidatee')\n",
    "plt.title('Average Number of Transactions per User')\n",
    "plt.xlabel('Type')\n",
    "plt.ylabel('Average Number of Transactoins')\n",
    "plt.show()"
   ]
  },
  {
   "cell_type": "code",
   "execution_count": 22,
   "metadata": {},
   "outputs": [
    {
     "data": {
      "image/png": "[encoded data removed]",
      "text/plain": [
       "<Figure size 432x288 with 1 Axes>"
      ]
     },
     "metadata": {},
     "output_type": "display_data"
    }
   ],
   "source": [
    "#create plot\n",
    "sns.boxplot(data=transactions[~transactions['type'].isin(['liquidation','swap','collateral'])],x='type',y='amountUSD',hue='isLiquidatee',\n",
    "            showfliers=False)\n",
    "plt.title('Amounts Used in Transactions (Outliers Removed)')\n",
    "plt.ylabel('Average Transaction Amount (USD)')\n",
    "plt.show()"
   ]
  },
  {
   "cell_type": "markdown",
   "metadata": {},
   "source": [
    "### How do the Different Attributes Correlate with Eachother?"
   ]
  },
  {
   "cell_type": "code",
   "execution_count": null,
   "metadata": {},
   "outputs": [],
   "source": [
    "#get transactions for liquidators and non liquidators\n",
    "tl = transactions_liquidators[~(transactions_liquidators['type']=='liquidation')]\n",
    "tn = transactions_nonliquidators\n",
    "\n",
    "#group by user, and calculate timeactive, and number of transactions\n",
    "tl_counts = tl.groupby('user')['user'].count()\n",
    "tl_times = (tl.groupby('user')['timestamp'].max()-tl.groupby('user')['timestamp'].min())/(3600*24)\n",
    "tl_types= tl.groupby(['user','type']).size().unstack(fill_value=0)\n",
    "\n",
    "tn_counts = tn.groupby('user')['user'].count()\n",
    "tn_times = (tn.groupby('user')['timestamp'].max()-tn.groupby('user')['timestamp'].min())/(3600*24)\n",
    "tn_types= tn.groupby(['user','type']).size().unstack(fill_value=0)\n",
    "\n",
    "#create dataframe from values\n",
    "df_tl = pd.DataFrame(tl_counts)\n",
    "df_tl['daysActive']=tl_times\n",
    "df_tl['isLiquidator']='True'\n",
    "df_tl = df_tl.merge(tl_types,left_index=True,right_index=True)\n",
    "\n",
    "df_tn = pd.DataFrame(tn_counts)\n",
    "df_tn['daysActive']=tn_times\n",
    "df_tn['isLiquidator']='False'\n",
    "df_tn = df_tn.merge(tn_types,left_index=True,right_index=True)\n",
    "\n",
    "#rename columns\n",
    "df_tl.rename(columns={'user':'n','borrow':'nborrow','deposit':'ndeposit','redeem':'nredeem','repay':'nrepay','swap':'nswap','collateral':'ncollateral'},inplace=True)\n",
    "df_tn.rename(columns={'user':'n','borrow':'nborrow','deposit':'ndeposit','redeem':'nredeem','repay':'nrepay','swap':'nswap','collateral':'ncollateral'},inplace=True)\n",
    "\n",
    "#get proportions for transaction types\n",
    "for t in ['borrow','deposit','redeem','repay','swap','collateral']:\n",
    "    df_tl['p'+t]=df_tl['n'+t]/df_tl['n']\n",
    "    df_tn['p'+t]=df_tn['n'+t]/df_tn['n']\n",
    "\n",
    "#create dataframe for liquidator transactions and nonliquidator transactions\n",
    "df_t = df_tl.append(df_tn)\n",
    "\n",
    "#reorder columns\n",
    "df_t = df_t[['isLiquidator','daysActive','n','ndeposit','nredeem','nborrow','nrepay','nswap','ncollateral','pdeposit','predeem','pborrow','prepay','pswap','pcollateral']]\n",
    "\n",
    "#create heatmap of feature correlations\n",
    "plt.figure(figsize=(9,9))\n",
    "sns.heatmap(df_t.corr().round(2),annot=True)\n",
    "plt.show()"
   ]
  },
  {
   "cell_type": "code",
   "execution_count": null,
   "metadata": {},
   "outputs": [],
   "source": []
  }
 ],
 "metadata": {
  "kernelspec": {
   "display_name": "Python [conda env:blockchain]",
   "language": "python",
   "name": "conda-env-blockchain-py"
  },
  "language_info": {
   "codemirror_mode": {
    "name": "ipython",
    "version": 3
   },
   "file_extension": ".py",
   "mimetype": "text/x-python",
   "name": "python",
   "nbconvert_exporter": "python",
   "pygments_lexer": "ipython3",
   "version": "3.8.10"
  }
 },
 "nbformat": 4,
 "nbformat_minor": 2
}
