{
 "cells": [
  {
   "cell_type": "markdown",
   "metadata": {},
   "source": [
    "# Get Compound Borrows"
   ]
  },
  {
   "cell_type": "code",
   "execution_count": 1,
   "metadata": {},
   "outputs": [
    {
     "name": "stderr",
     "output_type": "stream",
     "text": [
      "In C:\\Users\\CCCam\\Miniconda3\\lib\\site-packages\\matplotlib\\mpl-data\\stylelib\\_classic_test.mplstyle: \n",
      "The text.latex.preview rcparam was deprecated in Matplotlib 3.3 and will be removed two minor releases later.\n",
      "In C:\\Users\\CCCam\\Miniconda3\\lib\\site-packages\\matplotlib\\mpl-data\\stylelib\\_classic_test.mplstyle: \n",
      "The mathtext.fallback_to_cm rcparam was deprecated in Matplotlib 3.3 and will be removed two minor releases later.\n",
      "In C:\\Users\\CCCam\\Miniconda3\\lib\\site-packages\\matplotlib\\mpl-data\\stylelib\\_classic_test.mplstyle: Support for setting the 'mathtext.fallback_to_cm' rcParam is deprecated since 3.3 and will be removed two minor releases later; use 'mathtext.fallback : 'cm' instead.\n",
      "In C:\\Users\\CCCam\\Miniconda3\\lib\\site-packages\\matplotlib\\mpl-data\\stylelib\\_classic_test.mplstyle: \n",
      "The validate_bool_maybe_none function was deprecated in Matplotlib 3.3 and will be removed two minor releases later.\n",
      "In C:\\Users\\CCCam\\Miniconda3\\lib\\site-packages\\matplotlib\\mpl-data\\stylelib\\_classic_test.mplstyle: \n",
      "The savefig.jpeg_quality rcparam was deprecated in Matplotlib 3.3 and will be removed two minor releases later.\n",
      "In C:\\Users\\CCCam\\Miniconda3\\lib\\site-packages\\matplotlib\\mpl-data\\stylelib\\_classic_test.mplstyle: \n",
      "The keymap.all_axes rcparam was deprecated in Matplotlib 3.3 and will be removed two minor releases later.\n",
      "In C:\\Users\\CCCam\\Miniconda3\\lib\\site-packages\\matplotlib\\mpl-data\\stylelib\\_classic_test.mplstyle: \n",
      "The animation.avconv_path rcparam was deprecated in Matplotlib 3.3 and will be removed two minor releases later.\n",
      "In C:\\Users\\CCCam\\Miniconda3\\lib\\site-packages\\matplotlib\\mpl-data\\stylelib\\_classic_test.mplstyle: \n",
      "The animation.avconv_args rcparam was deprecated in Matplotlib 3.3 and will be removed two minor releases later.\n"
     ]
    }
   ],
   "source": [
    "#import packages\n",
    "import requests\n",
    "import json\n",
    "import pandas as pd\n",
    "import seaborn as sns\n",
    "import matplotlib.pyplot as plt\n",
    "from datetime import datetime\n",
    "import numpy as np\n",
    "import matplotlib.dates as md\n",
    "import math\n",
    "import time"
   ]
  },
  {
   "cell_type": "code",
   "execution_count": 2,
   "metadata": {},
   "outputs": [
    {
     "name": "stdout",
     "output_type": "stream",
     "text": [
      "list index out of range\n",
      "<class 'pandas.core.frame.DataFrame'>\n",
      "RangeIndex: 193070 entries, 0 to 193069\n",
      "Data columns (total 8 columns):\n",
      " #   Column            Non-Null Count   Dtype \n",
      "---  ------            --------------   ----- \n",
      " 0   id                193070 non-null  object\n",
      " 1   amount            193070 non-null  object\n",
      " 2   accountBorrows    193070 non-null  object\n",
      " 3   borrower          193070 non-null  object\n",
      " 4   blockNumber       193070 non-null  int64 \n",
      " 5   underlyingSymbol  193070 non-null  object\n",
      " 6   blockTime         193070 non-null  int64 \n",
      " 7   type              193070 non-null  object\n",
      "dtypes: int64(2), object(6)\n",
      "memory usage: 11.8+ MB\n"
     ]
    }
   ],
   "source": [
    "lastId='\"\"'\n",
    "start_time = 0\n",
    "borrow_data=[]\n",
    "#loop until no more data left\n",
    "while(1):\n",
    "    try:\n",
    "        #set query\n",
    "        query=\"\"\"\n",
    "        {\n",
    "            borrowEvents (first: 1000 orderBy: id where:{id_gt:\"\"\"+lastId+\"\"\", blockTime_gt:\"\"\"+str(start_time)+\"\"\"}) {\n",
    "            id,\n",
    "            amount,\n",
    "            accountBorrows,\n",
    "            borrower,\n",
    "            blockNumber,\n",
    "            underlyingSymbol,\n",
    "            blockTime\n",
    "            }\n",
    "        }\n",
    "        \"\"\"\n",
    "        #make request\n",
    "        url = 'https://api.thegraph.com/subgraphs/name/graphprotocol/compound-v2'\n",
    "        request = requests.post(url,json={'query':query})\n",
    "        #store data\n",
    "        borrow_data.extend(request.json()['data']['borrowEvents'])\n",
    "        lastId = \"\\\"\"+request.json()['data']['borrowEvents'][-1]['id']+\"\\\"\"\n",
    "    except Exception as e:\n",
    "        #exit when no more data left to get\n",
    "        print(e)\n",
    "        break\n",
    "\n",
    "#create borrows data frame\n",
    "df_borrows = pd.DataFrame(borrow_data)\n",
    "df_borrows['type']='borrow'\n",
    "df_borrows.info()"
   ]
  },
  {
   "cell_type": "code",
   "execution_count": 3,
   "metadata": {},
   "outputs": [
    {
     "name": "stdout",
     "output_type": "stream",
     "text": [
      "list index out of range\n",
      "<class 'pandas.core.frame.DataFrame'>\n",
      "RangeIndex: 155784 entries, 0 to 155783\n",
      "Data columns (total 9 columns):\n",
      " #   Column            Non-Null Count   Dtype \n",
      "---  ------            --------------   ----- \n",
      " 0   id                155784 non-null  object\n",
      " 1   amount            155784 non-null  object\n",
      " 2   accountBorrows    155784 non-null  object\n",
      " 3   borrower          155784 non-null  object\n",
      " 4   blockNumber       155784 non-null  int64 \n",
      " 5   underlyingSymbol  155784 non-null  object\n",
      " 6   blockTime         155784 non-null  int64 \n",
      " 7   payer             155784 non-null  object\n",
      " 8   type              155784 non-null  object\n",
      "dtypes: int64(2), object(7)\n",
      "memory usage: 10.7+ MB\n"
     ]
    }
   ],
   "source": [
    "lastId='\"\"'\n",
    "start_time = 0\n",
    "repay_data=[]\n",
    "#loop until no more data left\n",
    "while(1):\n",
    "    try:\n",
    "        #set query\n",
    "        query=\"\"\"\n",
    "        {\n",
    "            repayEvents (first: 1000 orderBy: id where:{id_gt:\"\"\"+lastId+\"\"\", blockTime_gt:\"\"\"+str(start_time)+\"\"\"}) {\n",
    "            id,\n",
    "            amount,\n",
    "            accountBorrows,\n",
    "            borrower,\n",
    "            blockNumber,\n",
    "            underlyingSymbol,\n",
    "            blockTime,\n",
    "            payer\n",
    "            }\n",
    "        }\n",
    "        \"\"\"\n",
    "        #make request\n",
    "        url = 'https://api.thegraph.com/subgraphs/name/graphprotocol/compound-v2'\n",
    "        request = requests.post(url,json={'query':query})\n",
    "        #store data\n",
    "        repay_data.extend(request.json()['data']['repayEvents'])\n",
    "        lastId = \"\\\"\"+request.json()['data']['repayEvents'][-1]['id']+\"\\\"\"\n",
    "    except Exception as e:\n",
    "        #exit when no more data left to get\n",
    "        print(e)\n",
    "        break\n",
    "\n",
    "#create borrows data frame\n",
    "df_repays= pd.DataFrame(repay_data)\n",
    "df_repays['type']='repay'\n",
    "df_repays.info()"
   ]
  },
  {
   "cell_type": "code",
   "execution_count": 4,
   "metadata": {},
   "outputs": [
    {
     "name": "stdout",
     "output_type": "stream",
     "text": [
      "list index out of range\n",
      "<class 'pandas.core.frame.DataFrame'>\n",
      "RangeIndex: 1539193 entries, 0 to 1539192\n",
      "Data columns (total 8 columns):\n",
      " #   Column        Non-Null Count    Dtype \n",
      "---  ------        --------------    ----- \n",
      " 0   id            1539193 non-null  object\n",
      " 1   amount        1539193 non-null  object\n",
      " 2   to            1539193 non-null  object\n",
      " 3   from          1539193 non-null  object\n",
      " 4   blockNumber   1539193 non-null  int64 \n",
      " 5   blockTime     1539193 non-null  int64 \n",
      " 6   cTokenSymbol  1539193 non-null  object\n",
      " 7   type          1539193 non-null  object\n",
      "dtypes: int64(2), object(6)\n",
      "memory usage: 93.9+ MB\n"
     ]
    }
   ],
   "source": [
    "lastId='\"\"'\n",
    "start_time = 0\n",
    "transfer_data=[]\n",
    "#loop until no more data left\n",
    "while(1):\n",
    "    try:\n",
    "        #set query\n",
    "        query=\"\"\"\n",
    "        {\n",
    "            transferEvents (first: 1000 orderBy: id where:{id_gt:\"\"\"+lastId+\"\"\", blockTime_gt:\"\"\"+str(start_time)+\"\"\"}) {\n",
    "            id,\n",
    "            amount,\n",
    "            to,\n",
    "            from,\n",
    "            blockNumber,\n",
    "            blockTime,\n",
    "            cTokenSymbol\n",
    "            }\n",
    "        }\n",
    "        \"\"\"\n",
    "        #make request\n",
    "        url = 'https://api.thegraph.com/subgraphs/name/graphprotocol/compound-v2'\n",
    "        request = requests.post(url,json={'query':query})\n",
    "        #store data\n",
    "        transfer_data.extend(request.json()['data']['transferEvents'])\n",
    "        lastId = \"\\\"\"+request.json()['data']['transferEvents'][-1]['id']+\"\\\"\"\n",
    "    except Exception as e:\n",
    "        #exit when no more data left to get\n",
    "        print(e)\n",
    "        break\n",
    "\n",
    "#create borrows data frame\n",
    "df_transfer= pd.DataFrame(transfer_data)\n",
    "df_transfer['type']='transfer'\n",
    "df_transfer.info()"
   ]
  },
  {
   "cell_type": "code",
   "execution_count": 5,
   "metadata": {},
   "outputs": [
    {
     "name": "stdout",
     "output_type": "stream",
     "text": [
      "list index out of range\n",
      "<class 'pandas.core.frame.DataFrame'>\n",
      "RangeIndex: 434721 entries, 0 to 434720\n",
      "Data columns (total 9 columns):\n",
      " #   Column            Non-Null Count   Dtype \n",
      "---  ------            --------------   ----- \n",
      " 0   id                434721 non-null  object\n",
      " 1   amount            434721 non-null  object\n",
      " 2   to                434721 non-null  object\n",
      " 3   from              434721 non-null  object\n",
      " 4   blockNumber       434721 non-null  int64 \n",
      " 5   blockTime         434721 non-null  int64 \n",
      " 6   cTokenSymbol      434721 non-null  object\n",
      " 7   underlyingAmount  434721 non-null  object\n",
      " 8   type              434721 non-null  object\n",
      "dtypes: int64(2), object(7)\n",
      "memory usage: 29.9+ MB\n"
     ]
    }
   ],
   "source": [
    "lastId='\"\"'\n",
    "start_time = 0\n",
    "redeem_data=[]\n",
    "#loop until no more data left\n",
    "while(1):\n",
    "    try:\n",
    "        #set query\n",
    "        query=\"\"\"\n",
    "        {\n",
    "            redeemEvents (first: 1000 orderBy: id where:{id_gt:\"\"\"+lastId+\"\"\", blockTime_gt:\"\"\"+str(start_time)+\"\"\"}) {\n",
    "            id,\n",
    "            amount,\n",
    "            to,\n",
    "            from,\n",
    "            blockNumber,\n",
    "            blockTime,\n",
    "            cTokenSymbol,\n",
    "            underlyingAmount\n",
    "            }\n",
    "        }\n",
    "        \"\"\"\n",
    "        #make request\n",
    "        url = 'https://api.thegraph.com/subgraphs/name/graphprotocol/compound-v2'\n",
    "        request = requests.post(url,json={'query':query})\n",
    "        #store data\n",
    "        redeem_data.extend(request.json()['data']['redeemEvents'])\n",
    "        lastId = \"\\\"\"+request.json()['data']['redeemEvents'][-1]['id']+\"\\\"\"\n",
    "    except Exception as e:\n",
    "        #exit when no more data left to get\n",
    "        print(e)\n",
    "        break\n",
    "\n",
    "#create borrows data frame\n",
    "df_redeem= pd.DataFrame(redeem_data)\n",
    "df_redeem['type']='redeem'\n",
    "df_redeem.info()"
   ]
  },
  {
   "cell_type": "code",
   "execution_count": 6,
   "metadata": {},
   "outputs": [
    {
     "name": "stdout",
     "output_type": "stream",
     "text": [
      "list index out of range\n",
      "<class 'pandas.core.frame.DataFrame'>\n",
      "RangeIndex: 11126 entries, 0 to 11125\n",
      "Data columns (total 10 columns):\n",
      " #   Column                 Non-Null Count  Dtype \n",
      "---  ------                 --------------  ----- \n",
      " 0   id                     11126 non-null  object\n",
      " 1   amount                 11126 non-null  object\n",
      " 2   to                     11126 non-null  object\n",
      " 3   from                   11126 non-null  object\n",
      " 4   blockNumber            11126 non-null  int64 \n",
      " 5   blockTime              11126 non-null  int64 \n",
      " 6   cTokenSymbol           11126 non-null  object\n",
      " 7   underlyingSymbol       11126 non-null  object\n",
      " 8   underlyingRepayAmount  11126 non-null  object\n",
      " 9   type                   11126 non-null  object\n",
      "dtypes: int64(2), object(8)\n",
      "memory usage: 869.3+ KB\n"
     ]
    }
   ],
   "source": [
    "lastId='\"\"'\n",
    "start_time = 0\n",
    "liquidation_data=[]\n",
    "#loop until no more data left\n",
    "while(1):\n",
    "    try:\n",
    "        #set query\n",
    "        query=\"\"\"\n",
    "        {\n",
    "            liquidationEvents (first: 1000 orderBy: id where:{id_gt:\"\"\"+lastId+\"\"\", blockTime_gt:\"\"\"+str(start_time)+\"\"\"}) {\n",
    "            id,\n",
    "            amount,\n",
    "            to,\n",
    "            from,\n",
    "            blockNumber,\n",
    "            blockTime,\n",
    "            cTokenSymbol,\n",
    "            underlyingSymbol,\n",
    "            underlyingRepayAmount\n",
    "            }\n",
    "        }\n",
    "        \"\"\"\n",
    "        #make request\n",
    "        url = 'https://api.thegraph.com/subgraphs/name/graphprotocol/compound-v2'\n",
    "        request = requests.post(url,json={'query':query})\n",
    "        #store data\n",
    "        liquidation_data.extend(request.json()['data']['liquidationEvents'])\n",
    "        lastId = \"\\\"\"+request.json()['data']['liquidationEvents'][-1]['id']+\"\\\"\"\n",
    "    except Exception as e:\n",
    "        #exit when no more data left to get\n",
    "        print(e)\n",
    "        break\n",
    "\n",
    "#create borrows data frame\n",
    "df_liquidation= pd.DataFrame(liquidation_data)\n",
    "df_liquidation['type']='liquidation'\n",
    "df_liquidation.info()"
   ]
  },
  {
   "cell_type": "code",
   "execution_count": 12,
   "metadata": {},
   "outputs": [
    {
     "name": "stdout",
     "output_type": "stream",
     "text": [
      "<class 'pandas.core.frame.DataFrame'>\n",
      "Int64Index: 2333894 entries, 0 to 11125\n",
      "Data columns (total 14 columns):\n",
      " #   Column                 Dtype \n",
      "---  ------                 ----- \n",
      " 0   id                     object\n",
      " 1   amount                 object\n",
      " 2   accountBorrows         object\n",
      " 3   borrower               object\n",
      " 4   blockNumber            int64 \n",
      " 5   underlyingSymbol       object\n",
      " 6   blockTime              int64 \n",
      " 7   type                   object\n",
      " 8   payer                  object\n",
      " 9   to                     object\n",
      " 10  from                   object\n",
      " 11  cTokenSymbol           object\n",
      " 12  underlyingAmount       object\n",
      " 13  underlyingRepayAmount  object\n",
      "dtypes: int64(2), object(12)\n",
      "memory usage: 267.1+ MB\n"
     ]
    }
   ],
   "source": [
    "df = df_borrows.append(df_repays).append(df_transfer).append(df_redeem).append(df_liquidation)\n",
    "df.info()"
   ]
  },
  {
   "cell_type": "code",
   "execution_count": 29,
   "metadata": {},
   "outputs": [],
   "source": [
    "df.to_csv('compoundTransactions.csv')"
   ]
  },
  {
   "cell_type": "code",
   "execution_count": 20,
   "metadata": {},
   "outputs": [
    {
     "data": {
      "image/png": "[encoded data removed]",
      "text/plain": [
       "<Figure size 432x288 with 1 Axes>"
      ]
     },
     "metadata": {
      "needs_background": "light"
     },
     "output_type": "display_data"
    }
   ],
   "source": [
    "plt.title('Compound Transaction Types')\n",
    "sns.barplot(x=df['type'].value_counts().index,y=df['type'].value_counts().values)\n",
    "plt.show()"
   ]
  },
  {
   "cell_type": "code",
   "execution_count": 26,
   "metadata": {},
   "outputs": [
    {
     "name": "stderr",
     "output_type": "stream",
     "text": [
      "C:\\Users\\CCCam\\Miniconda3\\lib\\site-packages\\IPython\\core\\interactiveshell.py:3326: DtypeWarning: Columns (2,3,13,14,16,26,27,28,29,30,33,34,40,41) have mixed types.Specify dtype option on import or set low_memory=False.\n",
      "  exec(code_obj, self.user_global_ns, self.user_ns)\n"
     ]
    },
    {
     "name": "stdout",
     "output_type": "stream",
     "text": [
      "<class 'pandas.core.frame.DataFrame'>\n",
      "Int64Index: 667929 entries, 0 to 667928\n",
      "Data columns (total 42 columns):\n",
      " #   Column                        Non-Null Count   Dtype  \n",
      "---  ------                        --------------   -----  \n",
      " 0   amount                        656882 non-null  float64\n",
      " 1   borrowRate                    131207 non-null  float64\n",
      " 2   borrowRateMode                131207 non-null  object \n",
      " 3   onBehalfOf                    656882 non-null  object \n",
      " 4   pool                          667929 non-null  object \n",
      " 5   reserve                       656882 non-null  object \n",
      " 6   timestamp                     667929 non-null  int64  \n",
      " 7   user                          667929 non-null  object \n",
      " 8   type                          667929 non-null  object \n",
      " 9   reservePriceETH               656882 non-null  float64\n",
      " 10  reservePriceUSD               656882 non-null  float64\n",
      " 11  amountETH                     656882 non-null  float64\n",
      " 12  amountUSD                     656882 non-null  float64\n",
      " 13  liquidator                    11047 non-null   object \n",
      " 14  collateralReserve             11047 non-null   object \n",
      " 15  collateralAmount              11047 non-null   float64\n",
      " 16  principalReserve              11047 non-null   object \n",
      " 17  principalAmount               11047 non-null   float64\n",
      " 18  reservePriceETHPrincipal      11047 non-null   float64\n",
      " 19  reservePriceUSDPrincipal      11047 non-null   float64\n",
      " 20  reservePriceETHCollateral     11047 non-null   float64\n",
      " 21  reservePriceUSDCollateral     11047 non-null   float64\n",
      " 22  amountETHPincipal             11047 non-null   float64\n",
      " 23  amountETHCollateral           11047 non-null   float64\n",
      " 24  amountUSDPrincipal            11047 non-null   float64\n",
      " 25  amountUSDCollateral           11047 non-null   float64\n",
      " 26  principalCollateralStability  11047 non-null   object \n",
      " 27  principalStability            11047 non-null   object \n",
      " 28  collateralStability           11047 non-null   object \n",
      " 29  borrowRateModeFrom            0 non-null       object \n",
      " 30  borrowRateModeTo              0 non-null       object \n",
      " 31  stableBorrowRate              0 non-null       float64\n",
      " 32  variableBorrowRate            0 non-null       float64\n",
      " 33  fromState                     0 non-null       object \n",
      " 34  toState                       0 non-null       object \n",
      " 35  datetime                      667929 non-null  object \n",
      " 36  protocolContract              667929 non-null  bool   \n",
      " 37  personalTransaction           667929 non-null  bool   \n",
      " 38  stableCoin                    667929 non-null  bool   \n",
      " 39  user_alias                    667929 non-null  object \n",
      " 40  onBehalfOf_alias              656882 non-null  object \n",
      " 41  liquidator_alias              11047 non-null   object \n",
      "dtypes: bool(3), float64(18), int64(1), object(20)\n",
      "memory usage: 205.7+ MB\n"
     ]
    }
   ],
   "source": [
    "trans = pd.read_csv('transactions.csv')\n",
    "trans = trans[~((trans['type']=='collateral')|(trans['type']=='swap'))]\n",
    "trans.info()"
   ]
  },
  {
   "cell_type": "code",
   "execution_count": 28,
   "metadata": {},
   "outputs": [
    {
     "data": {
      "image/png": "[encoded data removed]",
      "text/plain": [
       "<Figure size 432x288 with 1 Axes>"
      ]
     },
     "metadata": {
      "needs_background": "light"
     },
     "output_type": "display_data"
    }
   ],
   "source": [
    "plt.title('Aave Transaction Types')\n",
    "sns.barplot(x=trans['type'].value_counts().index,y=trans['type'].value_counts().values)\n",
    "plt.show()"
   ]
  },
  {
   "cell_type": "code",
   "execution_count": 31,
   "metadata": {},
   "outputs": [
    {
     "data": {
      "text/plain": [
       "count    6.568820e+05\n",
       "mean     3.506038e+05\n",
       "std      7.388677e+06\n",
       "min      1.000000e-18\n",
       "25%      2.502250e+01\n",
       "50%      1.795119e+03\n",
       "75%      3.000000e+04\n",
       "max      6.000000e+08\n",
       "Name: amount, dtype: float64"
      ]
     },
     "execution_count": 31,
     "metadata": {},
     "output_type": "execute_result"
    }
   ],
   "source": [
    "trans['amount'].describe()"
   ]
  },
  {
   "cell_type": "code",
   "execution_count": 35,
   "metadata": {},
   "outputs": [
    {
     "data": {
      "text/plain": [
       "count    2.333894e+06\n",
       "mean     8.944347e+06\n",
       "std      2.526844e+08\n",
       "min      0.000000e+00\n",
       "25%      1.411412e+02\n",
       "50%      2.504748e+03\n",
       "75%      6.834193e+04\n",
       "max      2.306370e+10\n",
       "Name: amount, dtype: float64"
      ]
     },
     "execution_count": 35,
     "metadata": {},
     "output_type": "execute_result"
    }
   ],
   "source": [
    "df['amount'].astype(float).describe()"
   ]
  },
  {
   "cell_type": "code",
   "execution_count": null,
   "metadata": {},
   "outputs": [],
   "source": []
  }
 ],
 "metadata": {
  "kernelspec": {
   "display_name": "Python 3",
   "language": "python",
   "name": "python3"
  },
  "language_info": {
   "codemirror_mode": {
    "name": "ipython",
    "version": 3
   },
   "file_extension": ".py",
   "mimetype": "text/x-python",
   "name": "python",
   "nbconvert_exporter": "python",
   "pygments_lexer": "ipython3",
   "version": "3.7.3"
  },
  "toc": {
   "base_numbering": 1,
   "nav_menu": {},
   "number_sections": true,
   "sideBar": true,
   "skip_h1_title": false,
   "title_cell": "Table of Contents",
   "title_sidebar": "Contents",
   "toc_cell": false,
   "toc_position": {},
   "toc_section_display": true,
   "toc_window_display": false
  }
 },
 "nbformat": 4,
 "nbformat_minor": 2
}
